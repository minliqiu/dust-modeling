{
 "cells": [
  {
   "cell_type": "code",
   "execution_count": 1,
   "id": "6ca49704",
   "metadata": {},
   "outputs": [],
   "source": [
    "from time import process_time\n",
    "import pandas as pd\n",
    "import matplotlib.pyplot as plt\n",
    "import numpy as np\n",
    "import rebound\n",
    "import reboundx\n",
    "%matplotlib inline"
   ]
  },
  {
   "cell_type": "code",
   "execution_count": 2,
   "id": "5b8e0913",
   "metadata": {},
   "outputs": [],
   "source": [
    "Degree_To_Rad = np.pi/180.\n",
    "AU_To_Meter = 1.496e11\n",
    "\n",
    "m_Sun = 1.99e30 # solar mass in [kg]\n",
    "R_Sun = 6.957e8 # solar radius in [m]\n",
    "m_J = 1.898e27 # Jupiter mass in [kg]\n",
    "R_J = 7.1492e7 # Jupiter radius in [m]\n",
    "a_J = 7.78479e8 # Jupiter semi-major axis in [m]\n",
    "\n",
    "k1 = 0.9 # m_star/m_Sun\n",
    "m_Star = k1 * m_Sun\n",
    "R_Star = k1**(1/3) * R_Sun # ?\n",
    "R_sub = (k1**2) * 4 * R_Sun\n",
    "\n",
    "k2 = 1 # m_planet/m_Jupiter\n",
    "m_Planet = k2 * m_J\n",
    "R_Planet = k2**(1/3) * R_J # ?\n",
    "a_Planet = k2 * 10 * R_Star # ?"
   ]
  },
  {
   "cell_type": "code",
   "execution_count": 3,
   "id": "d318d455",
   "metadata": {},
   "outputs": [
    {
     "data": {
      "text/plain": [
       "'\\na small planet with Mp = 0.1 MJ and Rp =0.7RJ\\na medium-size planet with Mp =MJ and Rp =RJ\\na large planet with with Mp =2.0MJ and Rp =2.0RJ\\n'"
      ]
     },
     "execution_count": 3,
     "metadata": {},
     "output_type": "execute_result"
    }
   ],
   "source": [
    "'''\n",
    "a small planet with Mp = 0.1 MJ and Rp =0.7RJ\n",
    "a medium-size planet with Mp =MJ and Rp =RJ\n",
    "a large planet with with Mp =2.0MJ and Rp =2.0RJ\n",
    "'''"
   ]
  },
  {
   "cell_type": "code",
   "execution_count": 4,
   "id": "257e6a18",
   "metadata": {},
   "outputs": [
    {
     "name": "stdout",
     "output_type": "stream",
     "text": [
      "---------------------------------\n",
      "REBOUND version:     \t3.17.3\n",
      "REBOUND built on:    \tJun 26 2021 14:35:07\n",
      "Number of particles: \t2\n",
      "Selected integrator: \tias15\n",
      "Simulation time:     \t0.0000000000000000e+00\n",
      "Current timestep:    \t100.000000\n",
      "---------------------------------\n",
      "<rebound.particle.Particle object at 0x7f97aad47ec0, m=1.791e+30 x=-7110663.581104555 y=0.0 z=0.0 vx=0.0 vy=-141.2949905189222 vz=0.0>\n",
      "<rebound.particle.Particle object at 0x7f97aad70040, m=1.898e+27 x=6709798985.120262 y=0.0 z=0.0 vx=0.0 vy=133329.46681738127 vz=0.0>\n",
      "---------------------------------\n"
     ]
    }
   ],
   "source": [
    "sim = rebound.Simulation()\n",
    "sim.integrator = \"ias15\"\n",
    "sim.G = 6.674e-11 # SI units\n",
    "sim.dt = 1.e2 # Initial timestep in sec.\n",
    "sim.N_active = 2 # Make it so dust particles don't interact with one another gravitationally\n",
    "\n",
    "sim.add(m = m_Star, r = R_sub, hash = \"Star\")\n",
    "sim.add(m = m_Planet, a = a_Planet, e = 0, r = R_Planet, hash = \"Planet\")\n",
    "sim.move_to_com()\n",
    "\n",
    "ps = sim.particles\n",
    "\n",
    "sim.status()"
   ]
  },
  {
   "cell_type": "markdown",
   "id": "b710a1ec",
   "metadata": {},
   "source": [
    "collision function setup\n",
    "--"
   ]
  },
  {
   "cell_type": "code",
   "execution_count": 5,
   "id": "5ba51145",
   "metadata": {},
   "outputs": [],
   "source": [
    "hash_Star = str(ps['Star'].hash)\n",
    "hash_Planet = str(ps['Planet'].hash)\n",
    "\n",
    "ps_sub = []\n",
    "ps_pl = []\n",
    "\n",
    "                  \n",
    "def collision_function(sim_pointer, collision):\n",
    "    simcontps = sim_pointer.contents.particles # get simulation object from pointer\n",
    "    hash_p1 = str(simcontps[collision.p1].hash)\n",
    "    hash_p2 = str(simcontps[collision.p2].hash)\n",
    "    \n",
    "    # p1 not dust              \n",
    "    if hash_p1 == hash_Star:\n",
    "        ps_sub.append(hash_p2)\n",
    "        print ('Sublimation:', hash_p2, 'at %.5f'%(sim.t/yr), '[yr]')\n",
    "        j = 2 # remove p2 (dust)\n",
    "                 \n",
    "    elif hash_p1 == hash_Planet:\n",
    "        ps_pl.append(hash_p2)\n",
    "        print ('Hit the Planet:', hash_p2, 'at %.5f'%(sim.t/yr), '[yr]')\n",
    "        j = 2 # remove p2 (dust)\n",
    "                  \n",
    "    # p1 is dust  \n",
    "    else:\n",
    "        if hash_p2 == hash_Star:\n",
    "            ps_sub.append(hash_p1)\n",
    "            print ('Sublimation:', hash_p1, 'at %.5f'%(sim.t/yr), '[yr]')\n",
    "            j = 1 # remove p1 (dust)\n",
    "        else:\n",
    "            ps_pl.append(hash_p1)\n",
    "            print ('Hit the Planet:', hash_p1, 'at %.5f'%(sim.t/yr), '[yr]')\n",
    "            j = 1 # remove p1 (dust)\n",
    "\n",
    "    return j                            \n",
    "\n",
    "\n",
    "sim.collision = \"direct\"\n",
    "sim.collision_resolve = collision_function"
   ]
  },
  {
   "cell_type": "markdown",
   "id": "65e3f67e",
   "metadata": {},
   "source": [
    "set up reboundx and radiation force & PR-drag force\n",
    "--"
   ]
  },
  {
   "cell_type": "code",
   "execution_count": 6,
   "id": "f65b00a5",
   "metadata": {},
   "outputs": [],
   "source": [
    "rebx = reboundx.Extras(sim)\n",
    "rf = rebx.load_force(\"radiation_forces\")\n",
    "rebx.add_force(rf)\n",
    "rf.params[\"c\"] = 3.e8\n"
   ]
  },
  {
   "cell_type": "code",
   "execution_count": 7,
   "id": "11a813c4",
   "metadata": {},
   "outputs": [],
   "source": [
    "ps[\"Star\"].params[\"radiation_source\"] = 1 # set 'Star' to be the source of radiation"
   ]
  },
  {
   "cell_type": "code",
   "execution_count": 8,
   "id": "145737b4",
   "metadata": {},
   "outputs": [],
   "source": [
    "a = 3*a_Planet\n",
    "e = 0\n",
    "inc = 10 # [degree]\n",
    "\n",
    "# amin = 100.*AU\n",
    "# awidth = 20.*AU\n",
    "# incmax = np.arcsin(0.1)\n",
    "\n",
    "beta = 0.01\n",
    "Ndust = 100\n",
    "\n",
    "import random\n",
    "seed = 3\n",
    "random.seed(seed)\n",
    "\n",
    "for i in range(2, Ndust+2):\n",
    "#     a = amin + awidth*random.random() # Semimajor axis\n",
    "    pomega = 2*np.pi*random.random()  # Longitude of pericenter\n",
    "    f = 2*np.pi*random.random()       # True anomaly\n",
    "    Omega = 2*np.pi*random.random()   # Longitude of node\n",
    "#     inc = incmax*random.random()      # Inclination\n",
    "    sim.add(a=a, e=e, inc=inc*Degree_To_Rad, Omega=Omega, pomega=pomega, f=f, hash=i)\n",
    "    ps[i].params[\"beta\"] = beta"
   ]
  },
  {
   "cell_type": "code",
   "execution_count": 9,
   "id": "62b7aa87",
   "metadata": {},
   "outputs": [],
   "source": [
    "xs = [ps[i].x for i in range(sim.N)]\n",
    "ys = [ps[i].y for i in range(sim.N)]\n",
    "zs = [ps[i].z for i in range(sim.N)]"
   ]
  },
  {
   "cell_type": "code",
   "execution_count": 10,
   "id": "c3c6c730",
   "metadata": {},
   "outputs": [
    {
     "data": {
      "text/plain": [
       "Text(0.5, 1.0, 'Edge-on view')"
      ]
     },
     "execution_count": 10,
     "metadata": {},
     "output_type": "execute_result"
    },
    {
     "data": {
      "image/png": "[encoded data removed]",
      "text/plain": [
       "<Figure size 1080x360 with 2 Axes>"
      ]
     },
     "metadata": {
      "needs_background": "light"
     },
     "output_type": "display_data"
    }
   ],
   "source": [
    "fig, (ax1, ax2) = plt.subplots(nrows=1, ncols=2, figsize=(15,5))\n",
    "ax1.scatter(np.array(xs)/R_Sun, np.array(ys)/R_Sun)\n",
    "ax1.set_xlim([-35, 35])\n",
    "ax1.set_ylim([-35, 35])\n",
    "ax1.set_aspect('equal')\n",
    "ax1.set_title('Top-down view')\n",
    "ax2.scatter(np.array(xs)/R_Sun, np.array(zs)/R_Sun)\n",
    "ax2.set_ylim(ax2.get_xlim())\n",
    "ax2.set_title('Edge-on view')"
   ]
  },
  {
   "cell_type": "markdown",
   "id": "d0f59cc0",
   "metadata": {},
   "source": [
    "Start Integration\n",
    "--"
   ]
  },
  {
   "cell_type": "code",
   "execution_count": 11,
   "id": "3c51284d",
   "metadata": {},
   "outputs": [],
   "source": [
    "# pick out dusts that have been ejected out\n",
    "\n",
    "# PE + KE wrt Star\n",
    "def get_E(sim, ps_i):\n",
    "    rstar = np.array(ps['Star'].xyz)\n",
    "    r = np.array(ps_i.xyz)\n",
    "    v = np.array(ps_i.vxyz)\n",
    "    \n",
    "    KE = 0.5 * v@v # test particle kinetic energy\n",
    "    mu = sim.G * ps['Star'].m\n",
    "    r_ds = r - rstar\n",
    "    PE = -mu/np.sqrt(r_ds@r_ds) # test particle potential energy\n",
    "    \n",
    "    E = KE + PE\n",
    "    \n",
    "    return E"
   ]
  },
  {
   "cell_type": "code",
   "execution_count": 12,
   "id": "3baa195d",
   "metadata": {},
   "outputs": [
    {
     "name": "stdout",
     "output_type": "stream",
     "text": [
      "Hit the Planet: c_uint(4) at 922.78843 [yr]\n",
      "Hit the Planet: c_uint(56) at 1069.85975 [yr]\n",
      "Hit the Planet: c_uint(90) at 1083.67679 [yr]\n",
      "Hit the Planet: c_uint(53) at 1123.90396 [yr]\n",
      "Sublimation: c_uint(52) at 1165.48203 [yr]\n",
      "Ejection: c_uint(58) at 1414.14141 [yr]\n",
      "Sublimation: c_uint(65) at 1500.67812 [yr]\n",
      "Ejection: c_uint(2) at 1515.15152 [yr]\n",
      "Hit the Planet: c_uint(43) at 1537.09134 [yr]\n",
      "Hit the Planet: c_uint(34) at 1555.90013 [yr]\n",
      "Hit the Planet: c_uint(59) at 1610.93299 [yr]\n",
      "Sublimation: c_uint(17) at 1649.15004 [yr]\n",
      "Hit the Planet: c_uint(15) at 1697.91684 [yr]\n",
      "Hit the Planet: c_uint(72) at 1717.89235 [yr]\n",
      "Sublimation: c_uint(39) at 1726.06391 [yr]\n",
      "Hit the Planet: c_uint(35) at 1729.21028 [yr]\n",
      "Hit the Planet: c_uint(11) at 1753.20123 [yr]\n",
      "Hit the Planet: c_uint(57) at 1771.56944 [yr]\n",
      "Hit the Planet: c_uint(87) at 1810.74078 [yr]\n",
      "Sublimation: c_uint(38) at 1810.91948 [yr]\n",
      "Hit the Planet: c_uint(84) at 1857.50925 [yr]\n",
      "Hit the Planet: c_uint(45) at 1877.52763 [yr]\n",
      "Sublimation: c_uint(63) at 1899.87395 [yr]\n",
      "Sublimation: c_uint(49) at 1901.99314 [yr]\n",
      "Hit the Planet: c_uint(40) at 1903.27122 [yr]\n",
      "Hit the Planet: c_uint(71) at 1904.57517 [yr]\n",
      "Hit the Planet: c_uint(70) at 1916.77564 [yr]\n",
      "Ejection: c_uint(12) at 1919.19192 [yr]\n",
      "Hit the Planet: c_uint(100) at 1927.80022 [yr]\n",
      "Sublimation: c_uint(21) at 1931.35581 [yr]\n",
      "Hit the Planet: c_uint(9) at 1941.26792 [yr]\n",
      "Hit the Planet: c_uint(55) at 1948.66008 [yr]\n",
      "Hit the Planet: c_uint(95) at 1955.22702 [yr]\n",
      "Hit the Planet: c_uint(20) at 1964.56750 [yr]\n",
      "Hit the Planet: c_uint(7) at 1986.69538 [yr]\n",
      "Sublimation: c_uint(66) at 1988.31290 [yr]\n",
      "Hit the Planet: c_uint(94) at 2002.72486 [yr]\n",
      "Hit the Planet: c_uint(5) at 2006.40439 [yr]\n",
      "Hit the Planet: c_uint(79) at 2017.06885 [yr]\n",
      "Ejection: c_uint(3) at 2020.20202 [yr]\n",
      "Ejection: c_uint(28) at 2020.20202 [yr]\n",
      "Ejection: c_uint(98) at 2020.20202 [yr]\n",
      "Ejection: c_uint(86) at 2020.20202 [yr]\n",
      "Ejection: c_uint(81) at 2020.20202 [yr]\n",
      "Hit the Planet: c_uint(36) at 2026.70056 [yr]\n",
      "Hit the Planet: c_uint(97) at 2031.65403 [yr]\n",
      "Sublimation: c_uint(23) at 2034.34234 [yr]\n",
      "Hit the Planet: c_uint(6) at 2036.01429 [yr]\n",
      "Hit the Planet: c_uint(101) at 2076.87020 [yr]\n",
      "Hit the Planet: c_uint(76) at 2154.22532 [yr]\n",
      "Sublimation: c_uint(29) at 2155.56539 [yr]\n",
      "Hit the Planet: c_uint(91) at 2159.80757 [yr]\n",
      "Hit the Planet: c_uint(16) at 2169.46863 [yr]\n",
      "Hit the Planet: c_uint(93) at 2173.66021 [yr]\n",
      "Hit the Planet: c_uint(80) at 2189.88955 [yr]\n",
      "Hit the Planet: c_uint(14) at 2192.37402 [yr]\n",
      "Hit the Planet: c_uint(32) at 2213.51774 [yr]\n",
      "Hit the Planet: c_uint(74) at 2222.18872 [yr]\n",
      "Ejection: c_uint(99) at 2222.22222 [yr]\n",
      "Hit the Planet: c_uint(48) at 2236.42107 [yr]\n",
      "Hit the Planet: c_uint(46) at 2243.62745 [yr]\n",
      "Ejection: c_uint(47) at 2323.23232 [yr]\n",
      "Ejection: c_uint(85) at 2323.23232 [yr]\n",
      "Ejection: c_uint(92) at 2323.23232 [yr]\n",
      "Ejection: c_uint(51) at 2323.23232 [yr]\n",
      "Ejection: c_uint(89) at 2323.23232 [yr]\n",
      "Hit the Planet: c_uint(50) at 2333.30779 [yr]\n",
      "Hit the Planet: c_uint(75) at 2354.89711 [yr]\n",
      "Ejection: c_uint(73) at 2424.24242 [yr]\n",
      "Ejection: c_uint(19) at 2424.24242 [yr]\n",
      "Ejection: c_uint(25) at 2424.24242 [yr]\n",
      "Hit the Planet: c_uint(96) at 2449.31582 [yr]\n",
      "Hit the Planet: c_uint(88) at 2474.26390 [yr]\n",
      "Hit the Planet: c_uint(62) at 2487.11471 [yr]\n",
      "Sublimation: c_uint(54) at 2525.80303 [yr]\n",
      "Hit the Planet: c_uint(77) at 2532.73970 [yr]\n",
      "Hit the Planet: c_uint(61) at 2533.00070 [yr]\n",
      "Ejection: c_uint(69) at 2626.26263 [yr]\n",
      "Ejection: c_uint(41) at 2626.26263 [yr]\n",
      "Hit the Planet: c_uint(18) at 2724.14162 [yr]\n",
      "Ejection: c_uint(67) at 2727.27273 [yr]\n",
      "Ejection: c_uint(27) at 2727.27273 [yr]\n",
      "Ejection: c_uint(26) at 2929.29293 [yr]\n",
      "Ejection: c_uint(33) at 2929.29293 [yr]\n",
      "Sublimation: c_uint(68) at 3006.76587 [yr]\n",
      "Ejection: c_uint(37) at 3030.30303 [yr]\n",
      "Ejection: c_uint(22) at 3030.30303 [yr]\n",
      "Hit the Planet: c_uint(31) at 3048.28736 [yr]\n",
      "Ejection: c_uint(10) at 3131.31313 [yr]\n",
      "Ejection: c_uint(24) at 3131.31313 [yr]\n",
      "Hit the Planet: c_uint(64) at 3221.75503 [yr]\n",
      "Ejection: c_uint(60) at 3232.32323 [yr]\n",
      "Sublimation: c_uint(8) at 3253.96661 [yr]\n",
      "Ejection: c_uint(78) at 3333.33333 [yr]\n",
      "Ejection: c_uint(13) at 3535.35354 [yr]\n",
      "Ejection: c_uint(83) at 3636.36364 [yr]\n",
      "Sublimation: c_uint(44) at 3979.24224 [yr]\n",
      "Hit the Planet: c_uint(30) at 4165.46311 [yr]\n",
      "Ejection: c_uint(42) at 4949.49495 [yr]\n",
      "Running time: 5047.836130999999 Seconds\n"
     ]
    }
   ],
   "source": [
    "start = process_time()\n",
    "\n",
    "yr = 365*24*3600 # s\n",
    "\n",
    "Noutput = 100\n",
    "times = np.linspace(0, 1e4*yr, Noutput)\n",
    "\n",
    "x0 = np.zeros(Noutput)\n",
    "\n",
    "ps_ej = []\n",
    "\n",
    "for i, time in enumerate(times):\n",
    "    sim.integrate(time)\n",
    "    x0[i] = ps[0].x\n",
    "    \n",
    "    # ejection judgement\n",
    "    E_ps_array = []\n",
    "    for j in range(2, sim.N):\n",
    "        E_ps_array.append(get_E(sim, ps[j]))\n",
    "    \n",
    "    index_ej = np.where(np.array(E_ps_array)>0)[0] + 2\n",
    "    \n",
    "    l = 0 # count of dusts already removed in this round\n",
    "    for k in range(len(index_ej)):\n",
    "        ps_ej.append(str(ps[int(index_ej[k])-l].hash))\n",
    "        print ('Ejection:', str(ps[int(index_ej[k])-l].hash), 'at %.5f'%(sim.t/yr), '[yr]')\n",
    "        sim.remove(int(index_ej[k])-l)\n",
    "        l += 1\n",
    "            \n",
    "    if sim.N == 2:\n",
    "        print ('No dusts left. Finish integration. :)')\n",
    "        break    \n",
    "\n",
    "\n",
    "end = process_time()\n",
    "print(\"Running time: %s Seconds\"%(end-start))  "
   ]
  },
  {
   "cell_type": "code",
   "execution_count": 13,
   "id": "2570ae1c",
   "metadata": {},
   "outputs": [
    {
     "name": "stdout",
     "output_type": "stream",
     "text": [
      "Particles in the simulation at t=10000.0 : 3\n"
     ]
    }
   ],
   "source": [
    "print(\"Particles in the simulation at t=%5.1f : %d\"%(sim.t/yr, sim.N))"
   ]
  },
  {
   "cell_type": "code",
   "execution_count": 14,
   "id": "89916ba3",
   "metadata": {},
   "outputs": [],
   "source": [
    "xs_f = [ps[i].x for i in range(sim.N)]\n",
    "ys_f = [ps[i].y for i in range(sim.N)]\n",
    "zs_f = [ps[i].z for i in range(sim.N)]"
   ]
  },
  {
   "cell_type": "code",
   "execution_count": 15,
   "id": "512c8446",
   "metadata": {},
   "outputs": [
    {
     "data": {
      "text/plain": [
       "Text(0.5, 1.0, 'Edge-on view')"
      ]
     },
     "execution_count": 15,
     "metadata": {},
     "output_type": "execute_result"
    },
    {
     "data": {
      "image/png": "[encoded data removed]",
      "text/plain": [
       "<Figure size 1080x360 with 2 Axes>"
      ]
     },
     "metadata": {
      "needs_background": "light"
     },
     "output_type": "display_data"
    }
   ],
   "source": [
    "fig, (ax1, ax2) = plt.subplots(nrows=1, ncols=2, figsize=(15,5))\n",
    "ax1.scatter(np.array(xs_f)/R_Sun, np.array(ys_f)/R_Sun)\n",
    "ax1.set_xlim([-35, 35])\n",
    "ax1.set_ylim([-35, 35])\n",
    "ax1.set_aspect('equal')\n",
    "ax1.set_title('Top-down view')\n",
    "ax2.scatter(np.array(xs_f)/R_Sun, np.array(zs_f)/R_Sun)\n",
    "ax2.set_ylim(ax2.get_xlim())\n",
    "ax2.set_title('Edge-on view')"
   ]
  },
  {
   "cell_type": "markdown",
   "id": "0def7c67",
   "metadata": {},
   "source": [
    "fraction of outcomes\n",
    "--"
   ]
  },
  {
   "cell_type": "code",
   "execution_count": 16,
   "id": "5cba001d",
   "metadata": {},
   "outputs": [
    {
     "name": "stdout",
     "output_type": "stream",
     "text": [
      "Number of dusts entering the Star sublimation zone: 15\n",
      "Number of dusts hitting the Planet: 52\n",
      "Number of dusts ejected out: 32\n",
      "Number of dusts remaining in the system: 1\n"
     ]
    }
   ],
   "source": [
    "N_sub = len(ps_sub)\n",
    "N_pl = len(ps_pl)\n",
    "N_ej = len(ps_ej)\n",
    "N_lf = Ndust - N_sub - N_pl - N_ej\n",
    "\n",
    "print('Number of dusts entering the Star sublimation zone: %d'%(N_sub))\n",
    "print('Number of dusts hitting the Planet: %d'%(N_pl))\n",
    "print('Number of dusts ejected out: %d'%(N_ej))\n",
    "print('Number of dusts remaining in the system: %d'%(N_lf))"
   ]
  },
  {
   "cell_type": "code",
   "execution_count": 17,
   "id": "70830e4d",
   "metadata": {},
   "outputs": [],
   "source": [
    "f_sub = N_sub/Ndust\n",
    "f_pl = N_pl/Ndust\n",
    "f_ej = N_ej/Ndust\n",
    "f_lf = N_lf/Ndust"
   ]
  },
  {
   "cell_type": "code",
   "execution_count": 18,
   "id": "4511217c",
   "metadata": {},
   "outputs": [
    {
     "data": {
      "text/html": [
       "<div>\n",
       "<style scoped>\n",
       "    .dataframe tbody tr th:only-of-type {\n",
       "        vertical-align: middle;\n",
       "    }\n",
       "\n",
       "    .dataframe tbody tr th {\n",
       "        vertical-align: top;\n",
       "    }\n",
       "\n",
       "    .dataframe thead th {\n",
       "        text-align: right;\n",
       "    }\n",
       "</style>\n",
       "<table border=\"1\" class=\"dataframe\">\n",
       "  <thead>\n",
       "    <tr style=\"text-align: right;\">\n",
       "      <th></th>\n",
       "      <th>m_Star/m_Sun</th>\n",
       "      <th>m_Planet/m_J</th>\n",
       "      <th>beta</th>\n",
       "      <th>inc_d</th>\n",
       "      <th>f_sub</th>\n",
       "      <th>f_pl</th>\n",
       "      <th>f_ej</th>\n",
       "      <th>f_lf</th>\n",
       "    </tr>\n",
       "  </thead>\n",
       "  <tbody>\n",
       "    <tr>\n",
       "      <th>0</th>\n",
       "      <td>0.9</td>\n",
       "      <td>1.0</td>\n",
       "      <td>0.01</td>\n",
       "      <td>10.0</td>\n",
       "      <td>0.15</td>\n",
       "      <td>0.52</td>\n",
       "      <td>0.32</td>\n",
       "      <td>0.01</td>\n",
       "    </tr>\n",
       "  </tbody>\n",
       "</table>\n",
       "</div>"
      ],
      "text/plain": [
       "   m_Star/m_Sun  m_Planet/m_J  beta  inc_d  f_sub  f_pl  f_ej  f_lf\n",
       "0           0.9           1.0  0.01   10.0   0.15  0.52  0.32  0.01"
      ]
     },
     "execution_count": 18,
     "metadata": {},
     "output_type": "execute_result"
    }
   ],
   "source": [
    "para = np.array([[k1, k2, beta, inc, f_sub, f_pl, f_ej, f_lf]])\n",
    "paralabels = [\"m_Star/m_Sun\", \"m_Planet/m_J\", \"beta\", \"inc_d\", \"f_sub\", \"f_pl\", \"f_ej\", \"f_lf\"]\n",
    "df_para = pd.DataFrame(para, columns = paralabels)\n",
    "df_para\n",
    "# df_para.to_csv('/Users/minliqiu/documents/research/dust/result0.csv', header=True, index=False)"
   ]
  },
  {
   "cell_type": "code",
   "execution_count": null,
   "id": "ea6ead6d",
   "metadata": {},
   "outputs": [],
   "source": []
  },
  {
   "cell_type": "code",
   "execution_count": null,
   "id": "650b7d80",
   "metadata": {},
   "outputs": [],
   "source": [
    "#     for j in range(2, sim.N):    \n",
    "#         if j == sim.N: break\n",
    "#         E_ps = get_E(sim, ps[j])\n",
    "#         if E_ps > 0:\n",
    "#             ps_ej.append(str(ps[j].hash))\n",
    "#             print ('Ejection:', str(ps[j].hash), 'at %.5f'%(sim.t/yr), '[yr]')\n",
    "#             sim.remove(hash = ps[j].hash)"
   ]
  }
 ],
 "metadata": {
  "kernelspec": {
   "display_name": "Python 3",
   "language": "python",
   "name": "python3"
  },
  "language_info": {
   "codemirror_mode": {
    "name": "ipython",
    "version": 3
   },
   "file_extension": ".py",
   "mimetype": "text/x-python",
   "name": "python",
   "nbconvert_exporter": "python",
   "pygments_lexer": "ipython3",
   "version": "3.8.8"
  }
 },
 "nbformat": 4,
 "nbformat_minor": 5
}
