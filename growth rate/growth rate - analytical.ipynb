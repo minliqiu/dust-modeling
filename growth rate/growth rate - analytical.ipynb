{
 "cells": [
  {
   "cell_type": "code",
   "execution_count": 1,
   "id": "d144e4cc",
   "metadata": {},
   "outputs": [],
   "source": [
    "import numpy as np\n",
    "import sympy as sp\n",
    "import matplotlib.pyplot as plt\n",
    "%matplotlib inline"
   ]
  },
  {
   "cell_type": "code",
   "execution_count": 2,
   "id": "9d77458c",
   "metadata": {},
   "outputs": [],
   "source": [
    "from disturb_Qavg_r3bp_helio import Q_averaged_disturb\n",
    "from eq_points_r3bp_helio_conservative import lpe_r3bp_helio_kappa, root_find"
   ]
  },
  {
   "cell_type": "markdown",
   "id": "d89f694f",
   "metadata": {},
   "source": [
    "$\\gamma = \\frac{1}{2}\\dot{\\Gamma}_{\\Gamma} + \\frac{1}{2}\\dot{\\kappa}_{\\Gamma}\\left(\\frac{K_{0,\\Gamma\\kappa}}{K_{0,\\Gamma\\Gamma}}\\right)$\n",
    "--\n",
    "\n",
    "$\\kappa_2 = \\frac{a_2}{a_{2, res}}\\left(\\frac{j\\sqrt{1-e_2^2}-(j-k)}{k}\\right)^2 - 1$\n",
    "\n",
    "$\\Gamma_2 = \\sqrt{G m_0(1-\\beta)a_2}(1-\\sqrt{1-e_2^2})$\n"
   ]
  },
  {
   "cell_type": "markdown",
   "id": "077b1bfa",
   "metadata": {},
   "source": [
    "**step 1 - 1**\n",
    "\n",
    "From eq (107):\n",
    "$\\dot{\\kappa_2} = (1+\\kappa_2)\\left(\\frac{\\beta G m_0}{a_2^2 c}\\right)\\left[-\\frac{2+3e_2^2}{(1-e_2^2)^{3/2}}+\\frac{5je_2^2}{[j\\sqrt{1-e_2^2}-j+k](1-e_2^2)}\\right]$\n",
    "\n",
    "$\\dot{\\kappa}_{\\Gamma} = \\frac{\\partial \\dot{\\kappa}}{\\partial e_2} \\frac{\\partial e_2}{\\partial \\Gamma}$, with $\\phi_2$, $\\kappa_2$ fixed\n",
    "\n"
   ]
  },
  {
   "cell_type": "code",
   "execution_count": 3,
   "id": "66865a86",
   "metadata": {},
   "outputs": [
    {
     "data": {
      "text/latex": [
       "$\\displaystyle \\sqrt{\\frac{G a_{2 res} k^{2} m_{0} \\cdot \\left(1 - \\beta\\right) \\left(\\kappa_{2} + 1\\right)}{\\left(j \\sqrt{1 - e_{2}^{2}} - j + k\\right)^{2}}} \\cdot \\left(1 - \\sqrt{1 - e_{2}^{2}}\\right)$"
      ],
      "text/plain": [
       "sqrt(G*a2_res*k**2*m0*(1 - beta)*(kappa2 + 1)/(j*sqrt(1 - e2**2) - j + k)**2)*(1 - sqrt(1 - e2**2))"
      ]
     },
     "execution_count": 3,
     "metadata": {},
     "output_type": "execute_result"
    }
   ],
   "source": [
    "beta, G, m0, a2_res, c, j, k = sp.symbols('beta G m0 a2_res c j k')\n",
    "kappa2, e2 = sp.symbols('kappa2 e2')\n",
    "\n",
    "# a2(kappa2, e2)\n",
    "a2 = (kappa2+1)*a2_res / ((j * sp.sqrt(1-e2**2) - (j-k)) / k)**2\n",
    "# Gamma2(a2(kappa2, e2), e2) = Gamma2(kappa2, e2)\n",
    "Gamma2 = sp.sqrt(G*m0*(1-beta)*a2)*(1-sp.sqrt(1-e2**2))\n",
    "\n",
    "Gamma2"
   ]
  },
  {
   "cell_type": "code",
   "execution_count": 4,
   "id": "fd99fd0b",
   "metadata": {},
   "outputs": [
    {
     "data": {
      "text/latex": [
       "$\\displaystyle \\frac{\\sqrt{1 - e_{2}^{2}} \\left(j \\sqrt{1 - e_{2}^{2}} - j + k\\right)}{e_{2} \\sqrt{- \\frac{G a_{2 res} k^{2} m_{0} \\left(\\beta - 1\\right) \\left(\\kappa_{2} + 1\\right)}{\\left(j \\sqrt{1 - e_{2}^{2}} - j + k\\right)^{2}}} \\left(j \\sqrt{1 - e_{2}^{2}} - j \\left(\\sqrt{1 - e_{2}^{2}} - 1\\right) - j + k\\right)}$"
      ],
      "text/plain": [
       "sqrt(1 - e2**2)*(j*sqrt(1 - e2**2) - j + k)/(e2*sqrt(-G*a2_res*k**2*m0*(beta - 1)*(kappa2 + 1)/(j*sqrt(1 - e2**2) - j + k)**2)*(j*sqrt(1 - e2**2) - j*(sqrt(1 - e2**2) - 1) - j + k))"
      ]
     },
     "execution_count": 4,
     "metadata": {},
     "output_type": "execute_result"
    }
   ],
   "source": [
    "# fix kappa2\n",
    "d_Gamma2_d_e2 = sp.diff(Gamma2, e2)\n",
    "d_Gamma2_d_e2 = sp.simplify(d_Gamma2_d_e2)\n",
    "d_e2_d_Gamma2 = 1/d_Gamma2_d_e2\n",
    "d_e2_d_Gamma2"
   ]
  },
  {
   "cell_type": "code",
   "execution_count": 5,
   "id": "ba7f718d",
   "metadata": {},
   "outputs": [
    {
     "data": {
      "text/latex": [
       "$\\displaystyle \\frac{G \\beta m_{0} \\cdot \\left(\\frac{5 e_{2}^{2} j}{\\left(1 - e_{2}^{2}\\right) \\left(j \\sqrt{1 - e_{2}^{2}} - j + k\\right)} - \\frac{3 e_{2}^{2} + 2}{\\left(1 - e_{2}^{2}\\right)^{1.5}}\\right) \\left(j \\sqrt{1 - e_{2}^{2}} - j + k\\right)^{4}}{a_{2 res}^{2} c k^{4} \\left(\\kappa_{2} + 1\\right)}$"
      ],
      "text/plain": [
       "G*beta*m0*(5*e2**2*j/((1 - e2**2)*(j*sqrt(1 - e2**2) - j + k)) - (3*e2**2 + 2)/(1 - e2**2)**1.5)*(j*sqrt(1 - e2**2) - j + k)**4/(a2_res**2*c*k**4*(kappa2 + 1))"
      ]
     },
     "execution_count": 5,
     "metadata": {},
     "output_type": "execute_result"
    }
   ],
   "source": [
    "# kappa2_dot(kappa2, e2)\n",
    "term1 = (2+3*e2**2) / (1 - e2**2)**(3/2)\n",
    "term2 = 5 * j * e2**2 / ((j * sp.sqrt(1 - e2**2) - j + k) * (1 - e2**2))\n",
    "kappa2_dot = (1 + kappa2) * beta*G*m0/(a2**2*c) * (-term1 + term2)\n",
    "\n",
    "kappa2_dot"
   ]
  },
  {
   "cell_type": "code",
   "execution_count": 6,
   "id": "4f142e23",
   "metadata": {},
   "outputs": [
    {
     "data": {
      "text/latex": [
       "$\\displaystyle - \\frac{4 G \\beta e_{2} j m_{0} \\cdot \\left(\\frac{5 e_{2}^{2} j}{\\left(1 - e_{2}^{2}\\right) \\left(j \\sqrt{1 - e_{2}^{2}} - j + k\\right)} - \\frac{3 e_{2}^{2} + 2}{\\left(1 - e_{2}^{2}\\right)^{1.5}}\\right) \\left(j \\sqrt{1 - e_{2}^{2}} - j + k\\right)^{3}}{a_{2 res}^{2} c k^{4} \\sqrt{1 - e_{2}^{2}} \\left(\\kappa_{2} + 1\\right)} + \\frac{G \\beta m_{0} \\left(j \\sqrt{1 - e_{2}^{2}} - j + k\\right)^{4} \\cdot \\left(\\frac{5 e_{2}^{3} j^{2}}{\\left(1 - e_{2}^{2}\\right)^{\\frac{3}{2}} \\left(j \\sqrt{1 - e_{2}^{2}} - j + k\\right)^{2}} + \\frac{10 e_{2}^{3} j}{\\left(1 - e_{2}^{2}\\right)^{2} \\left(j \\sqrt{1 - e_{2}^{2}} - j + k\\right)} + \\frac{10 e_{2} j}{\\left(1 - e_{2}^{2}\\right) \\left(j \\sqrt{1 - e_{2}^{2}} - j + k\\right)} - \\frac{3.0 e_{2} \\cdot \\left(3 e_{2}^{2} + 2\\right)}{\\left(1 - e_{2}^{2}\\right)^{2.5}} - \\frac{6 e_{2}}{\\left(1 - e_{2}^{2}\\right)^{1.5}}\\right)}{a_{2 res}^{2} c k^{4} \\left(\\kappa_{2} + 1\\right)}$"
      ],
      "text/plain": [
       "-4*G*beta*e2*j*m0*(5*e2**2*j/((1 - e2**2)*(j*sqrt(1 - e2**2) - j + k)) - (3*e2**2 + 2)/(1 - e2**2)**1.5)*(j*sqrt(1 - e2**2) - j + k)**3/(a2_res**2*c*k**4*sqrt(1 - e2**2)*(kappa2 + 1)) + G*beta*m0*(j*sqrt(1 - e2**2) - j + k)**4*(5*e2**3*j**2/((1 - e2**2)**(3/2)*(j*sqrt(1 - e2**2) - j + k)**2) + 10*e2**3*j/((1 - e2**2)**2*(j*sqrt(1 - e2**2) - j + k)) + 10*e2*j/((1 - e2**2)*(j*sqrt(1 - e2**2) - j + k)) - 3.0*e2*(3*e2**2 + 2)/(1 - e2**2)**2.5 - 6*e2/(1 - e2**2)**1.5)/(a2_res**2*c*k**4*(kappa2 + 1))"
      ]
     },
     "execution_count": 6,
     "metadata": {},
     "output_type": "execute_result"
    }
   ],
   "source": [
    "# fix kappa2\n",
    "d_kappa2dot_d_e2 = sp.diff(kappa2_dot, e2)\n",
    "d_kappa2dot_d_e2"
   ]
  },
  {
   "cell_type": "code",
   "execution_count": 7,
   "id": "9dbb3faf",
   "metadata": {},
   "outputs": [
    {
     "data": {
      "text/latex": [
       "$\\displaystyle - \\frac{G \\beta m_{0} \\cdot \\left(4 j \\left(1 - e_{2}^{2}\\right)^{8.5} \\cdot \\left(5 e_{2}^{2} j \\left(1 - e_{2}^{2}\\right)^{1.5} + \\left(e_{2}^{2} - 1\\right) \\left(3 e_{2}^{2} + 2\\right) \\left(j \\sqrt{1 - e_{2}^{2}} - j + k\\right)\\right) - \\left(1 - e_{2}^{2}\\right)^{3.0} \\cdot \\left(5 e_{2}^{2} j^{2} \\left(1 - e_{2}^{2}\\right)^{7.0} + 10 e_{2}^{2} j \\left(1 - e_{2}^{2}\\right)^{6.5} \\left(j \\sqrt{1 - e_{2}^{2}} - j + k\\right) + 10 j \\left(1 - e_{2}^{2}\\right)^{7.5} \\left(j \\sqrt{1 - e_{2}^{2}} - j + k\\right) - \\left(1 - e_{2}^{2}\\right)^{6.0} \\cdot \\left(9.0 e_{2}^{2} + 6.0\\right) \\left(j \\sqrt{1 - e_{2}^{2}} - j + k\\right)^{2} - 6 \\left(1 - e_{2}^{2}\\right)^{7.0} \\left(j \\sqrt{1 - e_{2}^{2}} - j + k\\right)^{2}\\right)\\right) \\left(j \\sqrt{1 - e_{2}^{2}} - j + k\\right)^{3}}{a_{2 res}^{2} c k^{4} \\sqrt{- \\frac{G a_{2 res} k^{2} m_{0} \\left(\\beta - 1\\right) \\left(\\kappa_{2} + 1\\right)}{\\left(j \\sqrt{1 - e_{2}^{2}} - j + k\\right)^{2}}} \\left(1 - e_{2}^{2}\\right)^{11.0} \\left(\\kappa_{2} + 1\\right) \\left(j \\sqrt{1 - e_{2}^{2}} - j \\left(\\sqrt{1 - e_{2}^{2}} - 1\\right) - j + k\\right)}$"
      ],
      "text/plain": [
       "-G*beta*m0*(4*j*(1 - e2**2)**8.5*(5*e2**2*j*(1 - e2**2)**1.5 + (e2**2 - 1)*(3*e2**2 + 2)*(j*sqrt(1 - e2**2) - j + k)) - (1 - e2**2)**3.0*(5*e2**2*j**2*(1 - e2**2)**7.0 + 10*e2**2*j*(1 - e2**2)**6.5*(j*sqrt(1 - e2**2) - j + k) + 10*j*(1 - e2**2)**7.5*(j*sqrt(1 - e2**2) - j + k) - (1 - e2**2)**6.0*(9.0*e2**2 + 6.0)*(j*sqrt(1 - e2**2) - j + k)**2 - 6*(1 - e2**2)**7.0*(j*sqrt(1 - e2**2) - j + k)**2))*(j*sqrt(1 - e2**2) - j + k)**3/(a2_res**2*c*k**4*sqrt(-G*a2_res*k**2*m0*(beta - 1)*(kappa2 + 1)/(j*sqrt(1 - e2**2) - j + k)**2)*(1 - e2**2)**11.0*(kappa2 + 1)*(j*sqrt(1 - e2**2) - j*(sqrt(1 - e2**2) - 1) - j + k))"
      ]
     },
     "execution_count": 7,
     "metadata": {},
     "output_type": "execute_result"
    }
   ],
   "source": [
    "d_kappa2dot_d_Gamma = d_kappa2dot_d_e2*d_e2_d_Gamma2\n",
    "d_kappa2dot_d_Gamma = sp.simplify(d_kappa2dot_d_Gamma)\n",
    "d_kappa2dot_d_Gamma"
   ]
  },
  {
   "cell_type": "code",
   "execution_count": 8,
   "id": "76872806",
   "metadata": {},
   "outputs": [],
   "source": [
    "G_ = 6.6743e-11\n",
    "m_Star = 1.99e30 # solar mass in [kg]\n",
    "R_Sun = 6.957e8 # solar radius in [m]\n",
    "a1 = 10 * R_Sun\n",
    "n1_ = np.sqrt(G_*m_Star/(a1**3))\n",
    "beta_ = 0.1\n",
    "n2_eq = 9.904864866756742e-06\n",
    "a2_eq = (G_*m_Star*(1-beta_)/n2_eq**2)**(1/3)\n",
    "e2_eq = 0.4811868255521742\n",
    "a2_res_ = a1 * ((2/(2-1))**(2/3)) * (1-beta_)**(1/3)\n",
    "kappa2_eq = a2_eq/a2_res_ * (2*np.sqrt(1-e2_eq**2)-1)**2-1\n",
    "Gamma2_eq = np.sqrt(G_*m_Star*(1-beta_)*a2_eq)*(1-np.sqrt(1-e2_eq**2))\n",
    "\n",
    "test = d_kappa2dot_d_Gamma.subs({\n",
    "    G: 6.6743e-11,\n",
    "    c: 3e8,\n",
    "    beta: 0.1,\n",
    "    j: 2.,\n",
    "    k: 1.,\n",
    "    m0: m_Star,\n",
    "    a2_res: a2_eq,\n",
    "    e2: e2_eq,\n",
    "    kappa2: kappa2_eq})"
   ]
  },
  {
   "cell_type": "code",
   "execution_count": 9,
   "id": "35239b78",
   "metadata": {},
   "outputs": [
    {
     "data": {
      "text/latex": [
       "$\\displaystyle 4.17826609258788 \\cdot 10^{-24}$"
      ],
      "text/plain": [
       "4.17826609258788e-24"
      ]
     },
     "execution_count": 9,
     "metadata": {},
     "output_type": "execute_result"
    }
   ],
   "source": [
    "test"
   ]
  },
  {
   "cell_type": "markdown",
   "id": "9a0b42c7",
   "metadata": {},
   "source": [
    "**step 1 - 2**\n",
    "\n",
    "From eq (108):\n",
    "$\\dot{\\Gamma}_2 = \\left(\\frac{\\beta G m_0}{a_2^2 c}\\right)\\sqrt{Gm_0(1-\\beta)a_2}\\left\n",
    "[1-\\frac{1+3e_2^2/2}{(1-e_2^2)^{3/2}}\\right]$\n",
    "\n",
    "$\\dot{\\Gamma}_{\\Gamma} = \\frac{\\partial \\dot{\\Gamma_2}}{\\partial e_2} \\frac{\\partial e_2}{\\partial \\Gamma_2}$, with $\\phi_2$, $\\kappa_2$ fixed"
   ]
  },
  {
   "cell_type": "code",
   "execution_count": 10,
   "id": "67d84970",
   "metadata": {},
   "outputs": [
    {
     "data": {
      "text/latex": [
       "$\\displaystyle - \\frac{3 G \\beta e_{2} j m_{0} \\sqrt{\\frac{G a_{2 res} k^{2} m_{0} \\cdot \\left(1 - \\beta\\right) \\left(\\kappa_{2} + 1\\right)}{\\left(j \\sqrt{1 - e_{2}^{2}} - j + k\\right)^{2}}} \\left(- \\frac{\\frac{3 e_{2}^{2}}{2} + 1}{\\left(1 - e_{2}^{2}\\right)^{1.5}} + 1\\right) \\left(j \\sqrt{1 - e_{2}^{2}} - j + k\\right)^{3}}{a_{2 res}^{2} c k^{4} \\sqrt{1 - e_{2}^{2}} \\left(\\kappa_{2} + 1\\right)^{2}} + \\frac{G \\beta m_{0} \\sqrt{\\frac{G a_{2 res} k^{2} m_{0} \\cdot \\left(1 - \\beta\\right) \\left(\\kappa_{2} + 1\\right)}{\\left(j \\sqrt{1 - e_{2}^{2}} - j + k\\right)^{2}}} \\left(- \\frac{3.0 e_{2} \\cdot \\left(\\frac{3 e_{2}^{2}}{2} + 1\\right)}{\\left(1 - e_{2}^{2}\\right)^{2.5}} - \\frac{3 e_{2}}{\\left(1 - e_{2}^{2}\\right)^{1.5}}\\right) \\left(j \\sqrt{1 - e_{2}^{2}} - j + k\\right)^{4}}{a_{2 res}^{2} c k^{4} \\left(\\kappa_{2} + 1\\right)^{2}}$"
      ],
      "text/plain": [
       "-3*G*beta*e2*j*m0*sqrt(G*a2_res*k**2*m0*(1 - beta)*(kappa2 + 1)/(j*sqrt(1 - e2**2) - j + k)**2)*(-(3*e2**2/2 + 1)/(1 - e2**2)**1.5 + 1)*(j*sqrt(1 - e2**2) - j + k)**3/(a2_res**2*c*k**4*sqrt(1 - e2**2)*(kappa2 + 1)**2) + G*beta*m0*sqrt(G*a2_res*k**2*m0*(1 - beta)*(kappa2 + 1)/(j*sqrt(1 - e2**2) - j + k)**2)*(-3.0*e2*(3*e2**2/2 + 1)/(1 - e2**2)**2.5 - 3*e2/(1 - e2**2)**1.5)*(j*sqrt(1 - e2**2) - j + k)**4/(a2_res**2*c*k**4*(kappa2 + 1)**2)"
      ]
     },
     "execution_count": 10,
     "metadata": {},
     "output_type": "execute_result"
    }
   ],
   "source": [
    "# Gamma2_dot(kappa2, e2)\n",
    "Gamma2_dot = (beta*G*m0/a2**2/c) * sp.sqrt(G*m0*(1-beta)*a2) * (1-(1+3*e2**2/2)/(1-e2**2)**(3/2))\n",
    "d_Gamma2dot_d_e2 = sp.diff(Gamma2_dot, e2)\n",
    "d_Gamma2dot_d_e2"
   ]
  },
  {
   "cell_type": "code",
   "execution_count": 11,
   "id": "fedcd66f",
   "metadata": {},
   "outputs": [
    {
     "data": {
      "text/latex": [
       "$\\displaystyle \\frac{G \\beta m_{0} \\cdot \\left(3 j \\left(1 - e_{2}^{2}\\right)^{4.0} \\cdot \\left(3 e_{2}^{2} - 2 \\left(1 - e_{2}^{2}\\right)^{1.5} + 2\\right) - 2 \\left(1 - e_{2}^{2}\\right)^{2.0} \\left(\\left(1 - e_{2}^{2}\\right)^{1.5} \\cdot \\left(4.5 e_{2}^{2} + 3.0\\right) + 3 \\left(1 - e_{2}^{2}\\right)^{2.5}\\right) \\left(j \\sqrt{1 - e_{2}^{2}} - j + k\\right)\\right) \\left(j \\sqrt{1 - e_{2}^{2}} - j + k\\right)^{4}}{2 a_{2 res}^{2} c k^{4} \\left(1 - e_{2}^{2}\\right)^{5.5} \\left(\\kappa_{2} + 1\\right)^{2} \\left(j \\sqrt{1 - e_{2}^{2}} - j \\left(\\sqrt{1 - e_{2}^{2}} - 1\\right) - j + k\\right)}$"
      ],
      "text/plain": [
       "G*beta*m0*(3*j*(1 - e2**2)**4.0*(3*e2**2 - 2*(1 - e2**2)**1.5 + 2) - 2*(1 - e2**2)**2.0*((1 - e2**2)**1.5*(4.5*e2**2 + 3.0) + 3*(1 - e2**2)**2.5)*(j*sqrt(1 - e2**2) - j + k))*(j*sqrt(1 - e2**2) - j + k)**4/(2*a2_res**2*c*k**4*(1 - e2**2)**5.5*(kappa2 + 1)**2*(j*sqrt(1 - e2**2) - j*(sqrt(1 - e2**2) - 1) - j + k))"
      ]
     },
     "execution_count": 11,
     "metadata": {},
     "output_type": "execute_result"
    }
   ],
   "source": [
    "# fix kappa2\n",
    "d_Gamma2dot_d_Gamma = d_Gamma2dot_d_e2*d_e2_d_Gamma2\n",
    "d_Gamma2dot_d_Gamma = sp.simplify(d_Gamma2dot_d_Gamma)\n",
    "d_Gamma2dot_d_Gamma"
   ]
  },
  {
   "cell_type": "code",
   "execution_count": 12,
   "id": "a36e6792",
   "metadata": {},
   "outputs": [
    {
     "data": {
      "text/latex": [
       "$\\displaystyle -8.10646171284396 \\cdot 10^{-10}$"
      ],
      "text/plain": [
       "-8.10646171284396e-10"
      ]
     },
     "execution_count": 12,
     "metadata": {},
     "output_type": "execute_result"
    }
   ],
   "source": [
    "test = d_Gamma2dot_d_Gamma.subs({\n",
    "    G: 6.6743e-11,\n",
    "    c: 3e8,\n",
    "    beta: 0.1,\n",
    "    j: 2.,\n",
    "    k: 1.,\n",
    "    m0: m_Star,\n",
    "    a2_res: a2_eq,\n",
    "    e2: e2_eq,\n",
    "    kappa2: kappa2_eq})\n",
    "\n",
    "test"
   ]
  },
  {
   "cell_type": "markdown",
   "id": "78de87b3",
   "metadata": {},
   "source": [
    "**step 2**\n",
    "\n",
    "$K_0 = - \\frac{Gm_0(1-\\beta)}{2a_2} - n_1\\sqrt{Gm_0(1-\\beta)a_2(1-e_2^2)}$\n",
    "\n",
    "$\\kappa_2 = \\frac{a_2}{a_{2, res}}\\left(\\frac{j\\sqrt{1-e_2^2}-(j-k)}{k}\\right)^2 - 1$\n",
    "\n",
    "$\\Gamma_2 = \\sqrt{G m_0(1-\\beta)a_2}(1-\\sqrt{1-e_2^2})$"
   ]
  },
  {
   "cell_type": "markdown",
   "id": "f2228a18",
   "metadata": {},
   "source": [
    "**step 2 - 1**\n",
    "\n",
    "$K_{0,\\Gamma\\Gamma} = \\partial \\left(\\frac{\\partial K_0}{\\partial e_2}\\frac{\\partial e_2}{\\partial \\Gamma_2}\\right) / \\partial \\Gamma = \\frac{\\partial \\left(\\frac{\\partial K_0}{\\partial e_2}\\frac{\\partial e_2}{\\partial \\Gamma_2}\\right)}{\\partial e_2} \\frac{\\partial e_2}{\\partial \\Gamma}$"
   ]
  },
  {
   "cell_type": "code",
   "execution_count": 13,
   "id": "86a25d1f",
   "metadata": {
    "scrolled": true
   },
   "outputs": [
    {
     "data": {
      "text/latex": [
       "$\\displaystyle \\frac{G e_{2} j m_{0} \\cdot \\left(1 - \\beta\\right) \\left(j \\sqrt{1 - e_{2}^{2}} - j + k\\right)}{a_{2 res} k^{2} \\sqrt{1 - e_{2}^{2}} \\left(\\kappa_{2} + 1\\right)} - \\frac{n_{1} \\sqrt{\\frac{G a_{2 res} k^{2} m_{0} \\cdot \\left(1 - \\beta\\right) \\left(1 - e_{2}^{2}\\right) \\left(\\kappa_{2} + 1\\right)}{\\left(j \\sqrt{1 - e_{2}^{2}} - j + k\\right)^{2}}} \\left(\\frac{G a_{2 res} e_{2} j k^{2} m_{0} \\cdot \\left(1 - \\beta\\right) \\sqrt{1 - e_{2}^{2}} \\left(\\kappa_{2} + 1\\right)}{\\left(j \\sqrt{1 - e_{2}^{2}} - j + k\\right)^{3}} - \\frac{G a_{2 res} e_{2} k^{2} m_{0} \\cdot \\left(1 - \\beta\\right) \\left(\\kappa_{2} + 1\\right)}{\\left(j \\sqrt{1 - e_{2}^{2}} - j + k\\right)^{2}}\\right) \\left(j \\sqrt{1 - e_{2}^{2}} - j + k\\right)^{2}}{G a_{2 res} k^{2} m_{0} \\cdot \\left(1 - \\beta\\right) \\left(1 - e_{2}^{2}\\right) \\left(\\kappa_{2} + 1\\right)}$"
      ],
      "text/plain": [
       "G*e2*j*m0*(1 - beta)*(j*sqrt(1 - e2**2) - j + k)/(a2_res*k**2*sqrt(1 - e2**2)*(kappa2 + 1)) - n1*sqrt(G*a2_res*k**2*m0*(1 - beta)*(1 - e2**2)*(kappa2 + 1)/(j*sqrt(1 - e2**2) - j + k)**2)*(G*a2_res*e2*j*k**2*m0*(1 - beta)*sqrt(1 - e2**2)*(kappa2 + 1)/(j*sqrt(1 - e2**2) - j + k)**3 - G*a2_res*e2*k**2*m0*(1 - beta)*(kappa2 + 1)/(j*sqrt(1 - e2**2) - j + k)**2)*(j*sqrt(1 - e2**2) - j + k)**2/(G*a2_res*k**2*m0*(1 - beta)*(1 - e2**2)*(kappa2 + 1))"
      ]
     },
     "execution_count": 13,
     "metadata": {},
     "output_type": "execute_result"
    }
   ],
   "source": [
    "n1 = sp.symbols('n1')\n",
    "\n",
    "# K0(kappa2, e2)\n",
    "K0 = - G*m0*(1-beta)/(2*a2) - n1 * sp.sqrt(G*m0*(1-beta)*a2*(1-e2**2))\n",
    "# fix kappa2\n",
    "d_K0_d_e2 = sp.diff(K0, e2)\n",
    "\n",
    "d_K0_d_e2"
   ]
  },
  {
   "cell_type": "code",
   "execution_count": 14,
   "id": "ee6fe94a",
   "metadata": {
    "scrolled": true
   },
   "outputs": [
    {
     "data": {
      "text/latex": [
       "$\\displaystyle \\frac{\\sqrt{1 - e_{2}^{2}} \\left(\\frac{G e_{2} j m_{0} \\cdot \\left(1 - \\beta\\right) \\left(j \\sqrt{1 - e_{2}^{2}} - j + k\\right)}{a_{2 res} k^{2} \\sqrt{1 - e_{2}^{2}} \\left(\\kappa_{2} + 1\\right)} - \\frac{n_{1} \\sqrt{\\frac{G a_{2 res} k^{2} m_{0} \\cdot \\left(1 - \\beta\\right) \\left(1 - e_{2}^{2}\\right) \\left(\\kappa_{2} + 1\\right)}{\\left(j \\sqrt{1 - e_{2}^{2}} - j + k\\right)^{2}}} \\left(\\frac{G a_{2 res} e_{2} j k^{2} m_{0} \\cdot \\left(1 - \\beta\\right) \\sqrt{1 - e_{2}^{2}} \\left(\\kappa_{2} + 1\\right)}{\\left(j \\sqrt{1 - e_{2}^{2}} - j + k\\right)^{3}} - \\frac{G a_{2 res} e_{2} k^{2} m_{0} \\cdot \\left(1 - \\beta\\right) \\left(\\kappa_{2} + 1\\right)}{\\left(j \\sqrt{1 - e_{2}^{2}} - j + k\\right)^{2}}\\right) \\left(j \\sqrt{1 - e_{2}^{2}} - j + k\\right)^{2}}{G a_{2 res} k^{2} m_{0} \\cdot \\left(1 - \\beta\\right) \\left(1 - e_{2}^{2}\\right) \\left(\\kappa_{2} + 1\\right)}\\right) \\left(j \\sqrt{1 - e_{2}^{2}} - j + k\\right)}{e_{2} \\sqrt{- \\frac{G a_{2 res} k^{2} m_{0} \\left(\\beta - 1\\right) \\left(\\kappa_{2} + 1\\right)}{\\left(j \\sqrt{1 - e_{2}^{2}} - j + k\\right)^{2}}} \\left(j \\sqrt{1 - e_{2}^{2}} - j \\left(\\sqrt{1 - e_{2}^{2}} - 1\\right) - j + k\\right)}$"
      ],
      "text/plain": [
       "sqrt(1 - e2**2)*(G*e2*j*m0*(1 - beta)*(j*sqrt(1 - e2**2) - j + k)/(a2_res*k**2*sqrt(1 - e2**2)*(kappa2 + 1)) - n1*sqrt(G*a2_res*k**2*m0*(1 - beta)*(1 - e2**2)*(kappa2 + 1)/(j*sqrt(1 - e2**2) - j + k)**2)*(G*a2_res*e2*j*k**2*m0*(1 - beta)*sqrt(1 - e2**2)*(kappa2 + 1)/(j*sqrt(1 - e2**2) - j + k)**3 - G*a2_res*e2*k**2*m0*(1 - beta)*(kappa2 + 1)/(j*sqrt(1 - e2**2) - j + k)**2)*(j*sqrt(1 - e2**2) - j + k)**2/(G*a2_res*k**2*m0*(1 - beta)*(1 - e2**2)*(kappa2 + 1)))*(j*sqrt(1 - e2**2) - j + k)/(e2*sqrt(-G*a2_res*k**2*m0*(beta - 1)*(kappa2 + 1)/(j*sqrt(1 - e2**2) - j + k)**2)*(j*sqrt(1 - e2**2) - j*(sqrt(1 - e2**2) - 1) - j + k))"
      ]
     },
     "execution_count": 14,
     "metadata": {},
     "output_type": "execute_result"
    }
   ],
   "source": [
    "# fix kappa2\n",
    "d_K0_d_Gamma = d_K0_d_e2 * d_e2_d_Gamma2\n",
    "d_K0_d_Gamma"
   ]
  },
  {
   "cell_type": "markdown",
   "id": "426a9ccc",
   "metadata": {},
   "source": [
    "$K_{0,\\Gamma\\Gamma}$"
   ]
  },
  {
   "cell_type": "code",
   "execution_count": 15,
   "id": "af088edb",
   "metadata": {},
   "outputs": [],
   "source": [
    "# fix kappa2\n",
    "d_dK0d_Gamma_d_e2 = sp.diff(d_K0_d_Gamma, e2)\n",
    "k0_Gamma_Gamma = d_dK0d_Gamma_d_e2 * d_e2_d_Gamma2"
   ]
  },
  {
   "cell_type": "markdown",
   "id": "3c9eee6d",
   "metadata": {},
   "source": [
    "**step 2 - 2**\n",
    "\n",
    "$K_{0,\\Gamma\\kappa} = \\partial \\left(\\frac{\\partial K_0}{\\partial e_2}\\frac{\\partial e_2}{\\partial \\Gamma_2}\\right) / {\\partial \\kappa_2} = \\frac{\\partial \\left(\\frac{\\partial K_0}{\\partial e_2}\\frac{\\partial e_2}{\\partial \\Gamma_2}\\right)}{\\partial e_2} \\frac{\\partial e_2}{\\partial \\kappa_2} = \\frac{\\partial K_{0,\\Gamma}(\\kappa_2(a_2, e_2), e_2)}{\\partial e_2} \\frac{\\partial e_2}{\\partial \\kappa_2} = \\frac{\\partial K_{0,\\Gamma}(a_2(e_2, \\kappa_2), e_2)}{\\partial e_2} \\frac{\\partial e_2}{\\partial \\kappa_2} = \\frac{\\partial K_{0,\\Gamma}(a_2(e_2, \\Gamma_2), e_2)}{\\partial e_2} \\frac{\\partial e_2}{\\partial \\kappa_2} = \\frac{\\partial K_{0,\\Gamma}(\\Gamma_2(e_2, a_2), e_2)}{\\partial e_2} \\frac{\\partial e_2}{\\partial \\kappa_2} = \\frac{\\partial K_{0,\\Gamma}(\\Gamma_2, e_2)}{\\partial e_2} \\frac{1}{{\\partial \\kappa_2(\\Gamma_2, e_2)}/{\\partial e_2}}$"
   ]
  },
  {
   "cell_type": "code",
   "execution_count": 16,
   "id": "a6174d89",
   "metadata": {},
   "outputs": [],
   "source": [
    "# kappa2(a2, e2)\n",
    "a2_ = sp.symbols('a2_')\n",
    "kappa2_ = (a2_/a2_res) * ((j * sp.sqrt(1-e2**2) - (j-k)) / k)**2 - 1\n",
    "\n",
    "# d_K0_d_Gamma(kappa2(a2, e2), e2) to d_K0_d_Gamma(a2_(kappa2, e2), e2)\n",
    "# substitute kappa2 with a2 & e2\n",
    "d_K0_d_Gamma_ = d_K0_d_Gamma.subs('kappa2', kappa2_)\n",
    "\n",
    "# a2(Gamma2, e2)\n",
    "Gamma2_ = sp.symbols('Gamma2_')\n",
    "a2_fixGamma = Gamma2_**2/(G*m0*(1-beta)*(1-sp.sqrt(1-e2**2))**2)\n",
    "\n",
    "# d_K0_d_Gamma(a2_(kappa2, e2), e2) to d_K0_d_Gamma(a2_fixGamma(Gamma2_, e2), e2) to d_K0_d_Gamma(Gamma2_, e2)\n",
    "# substitute a2 with Gamma2 & e2\n",
    "d_K0_d_Gamma_fixGamma = d_K0_d_Gamma_.subs('a2_', a2_fixGamma)\n",
    "\n",
    "# fix Gamma2\n",
    "d_K0_d_Gamma_d_e2_fixGamma = sp.diff(d_K0_d_Gamma_fixGamma, e2)\n"
   ]
  },
  {
   "cell_type": "code",
   "execution_count": 17,
   "id": "dd1d6f7c",
   "metadata": {},
   "outputs": [
    {
     "data": {
      "text/latex": [
       "$\\displaystyle \\frac{\\sqrt{1 - e_{2}^{2}} \\left(\\frac{G e_{2} j m_{0} \\cdot \\left(1 - \\beta\\right)}{a_{2 } \\sqrt{1 - e_{2}^{2}} \\left(j \\sqrt{1 - e_{2}^{2}} - j + k\\right)} - \\frac{n_{1} \\sqrt{G a_{2 } m_{0} \\cdot \\left(1 - \\beta\\right) \\left(1 - e_{2}^{2}\\right)} \\left(\\frac{G a_{2 } e_{2} j m_{0} \\cdot \\left(1 - \\beta\\right) \\sqrt{1 - e_{2}^{2}}}{j \\sqrt{1 - e_{2}^{2}} - j + k} - G a_{2 } e_{2} m_{0} \\cdot \\left(1 - \\beta\\right)\\right)}{G a_{2 } m_{0} \\cdot \\left(1 - \\beta\\right) \\left(1 - e_{2}^{2}\\right)}\\right) \\left(j \\sqrt{1 - e_{2}^{2}} - j + k\\right)}{e_{2} \\sqrt{- G a_{2 } m_{0} \\left(\\beta - 1\\right)} \\left(j \\sqrt{1 - e_{2}^{2}} - j \\left(\\sqrt{1 - e_{2}^{2}} - 1\\right) - j + k\\right)}$"
      ],
      "text/plain": [
       "sqrt(1 - e2**2)*(G*e2*j*m0*(1 - beta)/(a2_*sqrt(1 - e2**2)*(j*sqrt(1 - e2**2) - j + k)) - n1*sqrt(G*a2_*m0*(1 - beta)*(1 - e2**2))*(G*a2_*e2*j*m0*(1 - beta)*sqrt(1 - e2**2)/(j*sqrt(1 - e2**2) - j + k) - G*a2_*e2*m0*(1 - beta))/(G*a2_*m0*(1 - beta)*(1 - e2**2)))*(j*sqrt(1 - e2**2) - j + k)/(e2*sqrt(-G*a2_*m0*(beta - 1))*(j*sqrt(1 - e2**2) - j*(sqrt(1 - e2**2) - 1) - j + k))"
      ]
     },
     "execution_count": 17,
     "metadata": {},
     "output_type": "execute_result"
    }
   ],
   "source": [
    "d_K0_d_Gamma_"
   ]
  },
  {
   "cell_type": "code",
   "execution_count": 18,
   "id": "128d69a3",
   "metadata": {},
   "outputs": [
    {
     "data": {
      "text/latex": [
       "$\\displaystyle \\frac{1}{- \\frac{2 \\Gamma_{2 }^{2} e_{2} j \\left(j \\sqrt{1 - e_{2}^{2}} - j + k\\right)}{G a_{2 res} k^{2} m_{0} \\cdot \\left(1 - \\beta\\right) \\sqrt{1 - e_{2}^{2}} \\left(1 - \\sqrt{1 - e_{2}^{2}}\\right)^{2}} - \\frac{2 \\Gamma_{2 }^{2} e_{2} \\left(j \\sqrt{1 - e_{2}^{2}} - j + k\\right)^{2}}{G a_{2 res} k^{2} m_{0} \\cdot \\left(1 - \\beta\\right) \\sqrt{1 - e_{2}^{2}} \\left(1 - \\sqrt{1 - e_{2}^{2}}\\right)^{3}}}$"
      ],
      "text/plain": [
       "1/(-2*Gamma2_**2*e2*j*(j*sqrt(1 - e2**2) - j + k)/(G*a2_res*k**2*m0*(1 - beta)*sqrt(1 - e2**2)*(1 - sqrt(1 - e2**2))**2) - 2*Gamma2_**2*e2*(j*sqrt(1 - e2**2) - j + k)**2/(G*a2_res*k**2*m0*(1 - beta)*sqrt(1 - e2**2)*(1 - sqrt(1 - e2**2))**3))"
      ]
     },
     "execution_count": 18,
     "metadata": {},
     "output_type": "execute_result"
    }
   ],
   "source": [
    "# kappa2(a2(Gamma2, e2), e2) to kappa2(Gamma2, e2)\n",
    "kappa2_fixGamma = (a2_fixGamma/a2_res) * ((j * sp.sqrt(1-e2**2) - (j-k)) / k)**2 - 1\n",
    "# fix Gamma2\n",
    "d_kappa2_de2_fixGamma = sp.diff(kappa2_fixGamma, e2)\n",
    "d_e2_d_kappa2_fixGamma = 1/d_kappa2_de2_fixGamma\n",
    "d_e2_d_kappa2_fixGamma"
   ]
  },
  {
   "cell_type": "markdown",
   "id": "300606fa",
   "metadata": {},
   "source": [
    "$K_{0,\\Gamma\\kappa}$"
   ]
  },
  {
   "cell_type": "code",
   "execution_count": 19,
   "id": "a6b8cf48",
   "metadata": {},
   "outputs": [],
   "source": [
    "k0_Gamma_kappa = d_K0_d_Gamma_d_e2_fixGamma * d_e2_d_kappa2_fixGamma"
   ]
  },
  {
   "cell_type": "markdown",
   "id": "4aaa18e9",
   "metadata": {},
   "source": [
    "$\\gamma = \\frac{1}{2}\\dot{\\Gamma}_{\\Gamma} + \\frac{1}{2}\\dot{\\kappa}_{\\Gamma}\\left(\\frac{K_{0,\\Gamma\\kappa}}{K_{0,\\Gamma\\Gamma}}\\right)$\n",
    "--"
   ]
  },
  {
   "cell_type": "code",
   "execution_count": 20,
   "id": "d6d219b3",
   "metadata": {
    "scrolled": false
   },
   "outputs": [],
   "source": [
    "gamma = 1/2 * d_Gamma2dot_d_Gamma + 1/2 * d_kappa2dot_d_Gamma * k0_Gamma_kappa/k0_Gamma_Gamma"
   ]
  },
  {
   "cell_type": "code",
   "execution_count": 21,
   "id": "52f9e4b8",
   "metadata": {},
   "outputs": [],
   "source": [
    "G_ = 6.6743e-11\n",
    "m_Star = 1.99e30 # solar mass in [kg]\n",
    "R_Sun = 6.957e8 # solar radius in [m]\n",
    "a1 = 10 * R_Sun\n",
    "n1_ = np.sqrt(G_*m_Star/(a1**3))\n",
    "beta_ = 0.1\n",
    "n2_eq = 9.904864866756742e-06\n",
    "a2_eq = (G_*m_Star*(1-beta_)/n2_eq**2)**(1/3)\n",
    "e2_eq = 0.4811868255521742\n",
    "a2_res_ = a1 * ((2/(2-1))**(2/3)) * (1-beta_)**(1/3)\n",
    "kappa2_eq = a2_eq/a2_res_ * (2*np.sqrt(1-e2_eq**2)-1)**2-1\n",
    "Gamma2_eq = np.sqrt(G_*m_Star*(1-beta_)*a2_eq)*(1-np.sqrt(1-e2_eq**2))\n",
    "\n",
    "gamma_subs = gamma.subs({\n",
    "    G: 6.6743e-11,\n",
    "    c: 3e8,\n",
    "    beta: 0.1,\n",
    "    j: 2.,\n",
    "    k: 1.,\n",
    "    m0: m_Star,\n",
    "    n1: n1_,\n",
    "    a2_res: a2_eq,\n",
    "    e2: e2_eq,\n",
    "    kappa2: kappa2_eq,\n",
    "    Gamma2_: Gamma2_eq})"
   ]
  },
  {
   "cell_type": "code",
   "execution_count": 22,
   "id": "421064b7",
   "metadata": {},
   "outputs": [
    {
     "name": "stdout",
     "output_type": "stream",
     "text": [
      "growth rate = 3.80847469070978E-10\n"
     ]
    }
   ],
   "source": [
    "print (\"growth rate = {}\".format(gamma_subs))"
   ]
  },
  {
   "cell_type": "code",
   "execution_count": null,
   "id": "edbf2c21",
   "metadata": {},
   "outputs": [],
   "source": []
  }
 ],
 "metadata": {
  "kernelspec": {
   "display_name": "Python 3 (ipykernel)",
   "language": "python",
   "name": "python3"
  },
  "language_info": {
   "codemirror_mode": {
    "name": "ipython",
    "version": 3
   },
   "file_extension": ".py",
   "mimetype": "text/x-python",
   "name": "python",
   "nbconvert_exporter": "python",
   "pygments_lexer": "ipython3",
   "version": "3.10.9"
  }
 },
 "nbformat": 4,
 "nbformat_minor": 5
}
