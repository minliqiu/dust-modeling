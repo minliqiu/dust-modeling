{
 "cells": [
  {
   "cell_type": "code",
   "execution_count": 1,
   "id": "6ca49704",
   "metadata": {},
   "outputs": [],
   "source": [
    "import rebound\n",
    "import reboundx\n",
    "import pandas as pd\n",
    "import numpy as np\n",
    "import matplotlib.pyplot as plt\n",
    "import matplotlib.colors as colors\n",
    "import matplotlib.animation as animation\n",
    "%matplotlib inline"
   ]
  },
  {
   "cell_type": "code",
   "execution_count": 2,
   "id": "8dcfa667",
   "metadata": {},
   "outputs": [],
   "source": [
    "from disturb_Qavg_r3bp_helio import Q_averaged_disturb\n",
    "from eq_points_r3bp_helio_conservative import lpe_r3bp_helio_kappa, root_find"
   ]
  },
  {
   "cell_type": "code",
   "execution_count": 3,
   "id": "5b8e0913",
   "metadata": {},
   "outputs": [],
   "source": [
    "Degree_To_Rad = np.pi/180.\n",
    "AU_To_Meter = 1.496e11\n",
    "yr = 365*24*3600 # s\n",
    "G = 6.6743e-11 # SI units\n",
    "c_light = 3e8\n",
    "\n",
    "\n",
    "m_Sun = 1.99e30 # solar mass in [kg]\n",
    "R_Sun = 6.957e8 # solar radius in [m]\n",
    "m_J = 1.898e27 # Jupiter mass in [kg]\n",
    "R_J = 7.1492e7 # Jupiter radius in [m]\n",
    "a_J = 7.78479e8 # Jupiter semi-major axis in [m]\n",
    "m_E = 5.9722e24 # Earth mass in [kg]\n",
    "R_E = 6.371e6 # Earth radius in [m]\n",
    "\n",
    "\n",
    "k1 = 1.0 # m_star/m_Sun\n",
    "m_Star = k1 * m_Sun\n",
    "R_Star = k1 * R_Sun\n",
    "R_sub = (k1**2) * 4 * R_Sun\n",
    "\n",
    "k2 = 1.0 # m_planet/m_Jupiter\n",
    "m_Planet = k2 * m_J\n",
    "\n",
    "if k2 <= 0.41:\n",
    "    R_Planet = R_E * (m_Planet/m_E)**(0.59) # low-mass planet; scale with Earth\n",
    "else:\n",
    "    R_Planet = R_J * k2**(-0.04) # massive planet; scale with Jupiter\n",
    "\n",
    "k_ap = 10\n",
    "a_Planet = k_ap * R_Sun # or R_Sun\n"
   ]
  },
  {
   "cell_type": "code",
   "execution_count": 4,
   "id": "6e3ec0ca",
   "metadata": {},
   "outputs": [],
   "source": [
    "beta = 0.1\n",
    "\n",
    "j, k = 2., 1.\n",
    "p, q = j-k, k\n",
    "\n",
    "a1 = a_Planet\n",
    "a2_res = a1 * ((j/(j-k))**(2/3)) * ((1-beta)**(1/3))\n",
    "n1 = np.sqrt(G*m_Star/(a1**3))\n",
    "n2_res = (j-k)*n1/j # np.sqrt(G*m_Star*(1-beta)/(a2_res**3))\n",
    "mu1 = m_Planet/m_Star/(1-beta)"
   ]
  },
  {
   "cell_type": "markdown",
   "id": "5a074ea4",
   "metadata": {},
   "source": [
    "numerical linearization\n",
    "--"
   ]
  },
  {
   "cell_type": "markdown",
   "id": "adc1d60a",
   "metadata": {},
   "source": [
    "Lagrange's equations\n",
    "\n",
    "$R_2 = \\frac{Gm_1}{a_2} \\sum_{n=1}^{\\infty} C_n e_2^n \\cos{(n\\phi_2)}$\n",
    "\n",
    "$\\frac{d n_2}{dt} = -\\frac{3}{a_2^2}\\frac{\\partial R_2}{\\partial \\lambda_2} + \\frac{n_2}{\\tau_{n_2}}\\frac{1+\\frac{3}{2}e_2^2}{(1-{e_2}^2)^{3/2}}$\n",
    "\n",
    "$\\frac{d e_2}{dt} = -\\frac{\\sqrt{1-e_2^2}}{n_2a_2^2e_2}(1-\\sqrt{1-e_2^2})\\frac{\\partial R_2}{\\partial \\lambda_2} - \\frac{\\sqrt{1-e_2^2}}{n_2a_2^2e_2}\\frac{\\partial R_2}{\\partial \\varpi_2} - \\frac{e_2}{\\tau_{e_2}}\\frac{1}{(1-{e_2}^2)^{1/2}}$\n",
    "\n",
    "$\\frac{d\\phi_2}{dt} = j(n_2+\\dot{\\epsilon}_2) - (j-k)n_1 - k\\frac{\\sqrt{1-e_2^2}}{n_2a_2^2e_2}\\frac{\\partial R_2}{\\partial e_2}$\n",
    "\n",
    "$\\frac{d\\epsilon_2}{dt} = -\\frac{2}{n_2a_2}\\frac{\\partial R_2}{\\partial a_2} + \\frac{\\sqrt{1-e_2^2}(1-\\sqrt{1-e_2^2})}{n_2a_2^2e_2}\\frac{\\partial R_2}{\\partial e_2}$\n"
   ]
  },
  {
   "cell_type": "code",
   "execution_count": 5,
   "id": "899beb0c",
   "metadata": {},
   "outputs": [],
   "source": [
    "def lagrange_equations(p, q, n2, e2, phi2):\n",
    "    # variables\n",
    "    a2 = (G*m_Star*(1-beta)/n2**2)**(1/3)\n",
    "    tau_e2 = 2*a2**2*c_light/(5*G*m_Star*beta)\n",
    "    tau_n2 = 5/6 * tau_e2\n",
    "    \n",
    "    # Q_averaged_disturb(N,p,q,G,m1,m2,a1,a2,e1,e2,phi1,phi2,pomega1)\n",
    "    R2, dR2da2, dR2de2, dR2dpomega2, dR2dlambda2 = Q_averaged_disturb(2**6, p, q, G, m_Planet, 0.,\n",
    "                                                              a1, a2, 0., e2, 0., phi2, 0.)\n",
    "    \n",
    "    # Lagrange's equations\n",
    "    dn2dt = -3/a2**2 * dR2dlambda2 + n2/tau_n2 * (1+1.5*e2**2)/(1-e2**2)**(3/2)\n",
    "    de2dt = -np.sqrt(1-e2**2)/(n2*a2**2*e2)*(1-np.sqrt(1-e2**2))*dR2dlambda2 - np.sqrt(1-e2**2)/(n2*a2**2*e2)*dR2dpomega2 - e2/tau_e2/np.sqrt(1-e2**2)\n",
    "    depsilondt = -2/n2/a2 * dR2da2 + np.sqrt(1-e2**2)*(1-np.sqrt(1-e2**2))/(n2*a2_res**2*e2) * dR2de2\n",
    "    dphi2dt = j*(n2+depsilondt) - (j-k)*n1 - k*np.sqrt(1-e2**2)/(n2*a2**2*e2) * dR2de2\n",
    "\n",
    "    return dn2dt, de2dt, dphi2dt\n"
   ]
  },
  {
   "cell_type": "code",
   "execution_count": 6,
   "id": "94c46981",
   "metadata": {},
   "outputs": [
    {
     "name": "stdout",
     "output_type": "stream",
     "text": [
      "n2_eq/n2_res, e2_eq, phi2_eq : \n",
      "0.9974293775277104 0.4811868255521742 5.146419749034615\n"
     ]
    }
   ],
   "source": [
    "from scipy.optimize import root\n",
    "\n",
    "def find_root(x):\n",
    "        n2, e2, phi2 = x\n",
    "        dn2dt, de2dt, dphi2dt = lagrange_equations(p, q, n2, e2, phi2)\n",
    "        return np.array([dn2dt, de2dt, dphi2dt])\n",
    "\n",
    "guess = [(n2_res, 0.4812, 5.106)]\n",
    "sol = root(find_root, guess)\n",
    "n2_eq, e2_eq, phi2_eq = sol.x\n",
    "print (\"n2_eq/n2_res, e2_eq, phi2_eq : \")\n",
    "print (n2_eq/n2_res, e2_eq, phi2_eq)"
   ]
  },
  {
   "cell_type": "code",
   "execution_count": 7,
   "id": "4d9a5e8b",
   "metadata": {},
   "outputs": [
    {
     "name": "stdout",
     "output_type": "stream",
     "text": [
      "dn2dt_eq, de2dt_eq, dphi2dt_eq : \n",
      "-7.631800117680849e-24 4.332865106371671e-20 -2.607438726889654e-19\n"
     ]
    },
    {
     "data": {
      "text/plain": [
       "matrix([[-3.31907543e-08, -1.97028964e-13, -6.52571684e-13],\n",
       "        [ 7.66383776e-04,  2.46418396e-09,  1.50680368e-08],\n",
       "        [ 2.00397211e+00, -1.31026472e-07,  2.94053426e-08]])"
      ]
     },
     "execution_count": 7,
     "metadata": {},
     "output_type": "execute_result"
    }
   ],
   "source": [
    "# equilibrium\n",
    "dn2dt_eq, de2dt_eq, dphi2dt_eq = lagrange_equations(p, q, n2_eq, e2_eq, phi2_eq)\n",
    "print (\"dn2dt_eq, de2dt_eq, dphi2dt_eq : \")\n",
    "print (dn2dt_eq, de2dt_eq, dphi2dt_eq)\n",
    "\n",
    "# partial variations around equilibirum\n",
    "h = 1e-8\n",
    "\n",
    "d_n2 = n2_eq*h\n",
    "dn2dt_n2_var, de2dt_n2_var, dphi2dt_n2_var = lagrange_equations(p, q, n2_eq+d_n2, e2_eq, phi2_eq)\n",
    "dn2dt_n2, de2dt_n2, dphi2dt_n2 = (dn2dt_n2_var-dn2dt_eq)/d_n2, (de2dt_n2_var-de2dt_eq)/d_n2, (dphi2dt_n2_var-dphi2dt_eq)/d_n2\n",
    "# dn2dt_n2_var, de2dt_n2_var, dphi2dt_n2_var = lagrange_equations(p, q, n2_eq*(), e2_eq, phi2_eq)\n",
    "# dn2dt_n2, de2dt_n2, dphi2dt_n2 = (dn2dt_n2_var-dn2dt_eq)/h, (de2dt_n2_var-de2dt_eq)/h, (dphi2dt_n2_var-dphi2dt_eq)/h\n",
    "dn2dt_e2_var, de2dt_e2_var, dphi2dt_e2_var = lagrange_equations(p, q, n2_eq, e2_eq+h, phi2_eq)\n",
    "dn2dt_e2, de2dt_e2, dphi2dt_e2 = (dn2dt_e2_var-dn2dt_eq)/h, (de2dt_e2_var-de2dt_eq)/h, (dphi2dt_e2_var-dphi2dt_eq)/h\n",
    "dn2dt_phi2_var, de2dt_phi2_var, dphi2dt_phi2_var = lagrange_equations(p, q, n2_eq, e2_eq, phi2_eq+h)\n",
    "dn2dt_phi2, de2dt_phi2, dphi2dt_phi2 = (dn2dt_phi2_var-dn2dt_eq)/h, (de2dt_phi2_var-de2dt_eq)/h, (dphi2dt_phi2_var-dphi2dt_eq)/h\n",
    "\n",
    "A_matrix = np.matrix([[dn2dt_n2, dn2dt_e2, dn2dt_phi2],\n",
    "                      [de2dt_n2, de2dt_e2, de2dt_phi2],\n",
    "                      [dphi2dt_n2, dphi2dt_e2, dphi2dt_phi2]])\n",
    "\n",
    "A_matrix"
   ]
  },
  {
   "cell_type": "code",
   "execution_count": 8,
   "id": "55938dee",
   "metadata": {},
   "outputs": [],
   "source": [
    "eigenvalues, eigenvectors = np.linalg.eig(A_matrix)"
   ]
  },
  {
   "cell_type": "code",
   "execution_count": 9,
   "id": "d0e09682",
   "metadata": {},
   "outputs": [
    {
     "data": {
      "text/plain": [
       "array([ 3.80330319e-10+1.14406158e-06j,  3.80330319e-10-1.14406158e-06j,\n",
       "       -2.08188836e-09+0.00000000e+00j])"
      ]
     },
     "execution_count": 9,
     "metadata": {},
     "output_type": "execute_result"
    }
   ],
   "source": [
    "eigenvalues"
   ]
  },
  {
   "cell_type": "code",
   "execution_count": 10,
   "id": "29e3fb56",
   "metadata": {},
   "outputs": [
    {
     "name": "stdout",
     "output_type": "stream",
     "text": [
      "growth rate =  3.803303193676848e-10\n"
     ]
    }
   ],
   "source": [
    "gamma = np.real(eigenvalues[1])\n",
    "print (\"growth rate = \", gamma)"
   ]
  },
  {
   "cell_type": "markdown",
   "id": "e7da3e84",
   "metadata": {},
   "source": [
    "rebound\n",
    "--"
   ]
  },
  {
   "cell_type": "code",
   "execution_count": 11,
   "id": "257e6a18",
   "metadata": {},
   "outputs": [
    {
     "name": "stdout",
     "output_type": "stream",
     "text": [
      "---------------------------------\n",
      "REBOUND version:     \t3.24.0\n",
      "REBOUND built on:    \tMar 28 2023 02:54:30\n",
      "Number of particles: \t2\n",
      "Selected integrator: \tias15\n",
      "Simulation time:     \t0.0000000000000000e+00\n",
      "Current timestep:    \t100.000000\n",
      "---------------------------------\n",
      "<rebound.particle.Particle object at 0x7fd1417845c0, m=1.99e+30 x=-6629047.270492766 y=0.0 z=0.0 vx=0.0 vy=-131.71788839324768 vz=0.0>\n",
      "<rebound.particle.Particle object at 0x7fd141784ac0, m=1.898e+27 x=6950370952.729507 y=0.0 z=0.0 vx=0.0 vy=138102.52787279393 vz=0.0>\n",
      "---------------------------------\n"
     ]
    }
   ],
   "source": [
    "sim = rebound.Simulation()\n",
    "sim.integrator = \"ias15\"\n",
    "sim.G = 6.674e-11 # SI units\n",
    "sim.dt = 1.e2 # Initial timestep in sec.\n",
    "sim.N_active = 2 # Make it so dust particles don't interact with one another gravitationally\n",
    "\n",
    "sim.add(m = m_Star, r = R_sub, hash = \"Star\")\n",
    "sim.add(m = m_Planet, a = a_Planet, e = 0, r = R_Planet, hash = \"Planet\")\n",
    "# sim.move_to_hel()\n",
    "sim.move_to_com()\n",
    "\n",
    "ps = sim.particles\n",
    "n_p = ps['Planet'].n\n",
    "\n",
    "sim.status()"
   ]
  },
  {
   "cell_type": "markdown",
   "id": "927705d1",
   "metadata": {},
   "source": [
    "collision function setup\n",
    "--"
   ]
  },
  {
   "cell_type": "code",
   "execution_count": 12,
   "id": "db574d7d",
   "metadata": {},
   "outputs": [],
   "source": [
    "hash_Star = str(ps['Star'].hash)\n",
    "hash_Planet = str(ps['Planet'].hash)\n",
    "\n",
    "ps_sub = []\n",
    "ps_pl = []\n",
    "\n",
    "                  \n",
    "def collision_function(sim_pointer, collision):\n",
    "    simcontps = sim_pointer.contents.particles # get simulation object from pointer\n",
    "    hash_p1 = str(simcontps[collision.p1].hash)\n",
    "    hash_p2 = str(simcontps[collision.p2].hash)\n",
    "    \n",
    "    # p1 not dust              \n",
    "    if hash_p1 == hash_Star:\n",
    "        ps_sub.append(hash_p2)\n",
    "        print ('Sublimation:', hash_p2, 'at %.5f'%(sim.t/yr), '[yr]')\n",
    "        j = 2 # remove p2 (dust)\n",
    "                 \n",
    "    elif hash_p1 == hash_Planet:\n",
    "        ps_pl.append(hash_p2)\n",
    "        print ('Hit the Planet:', hash_p2, 'at %.5f'%(sim.t/yr), '[yr]')\n",
    "        j = 2 # remove p2 (dust)\n",
    "                  \n",
    "    # p1 is dust  \n",
    "    else:\n",
    "        if hash_p2 == hash_Star:\n",
    "            ps_sub.append(hash_p1)\n",
    "            print ('Sublimation:', hash_p1, 'at %.5f'%(sim.t/yr), '[yr]')\n",
    "            j = 1 # remove p1 (dust)\n",
    "        else:\n",
    "            ps_pl.append(hash_p1)\n",
    "            print ('Hit the Planet:', hash_p1, 'at %.5f'%(sim.t/yr), '[yr]')\n",
    "            j = 1 # remove p1 (dust)\n",
    "\n",
    "    return j                            \n",
    "\n",
    "\n",
    "sim.collision = \"direct\"\n",
    "sim.collision_resolve = collision_function"
   ]
  },
  {
   "cell_type": "markdown",
   "id": "65e3f67e",
   "metadata": {},
   "source": [
    "set up reboundx and radiation force & PR-drag force\n",
    "--"
   ]
  },
  {
   "cell_type": "code",
   "execution_count": 13,
   "id": "f65b00a5",
   "metadata": {},
   "outputs": [],
   "source": [
    "rebx = reboundx.Extras(sim)\n",
    "rf = rebx.load_force(\"radiation_forces\")\n",
    "rebx.add_force(rf)\n",
    "rf.params[\"c\"] = 3.e8"
   ]
  },
  {
   "cell_type": "code",
   "execution_count": 14,
   "id": "11a813c4",
   "metadata": {},
   "outputs": [],
   "source": [
    "ps[\"Star\"].params[\"radiation_source\"] = 1 # set 'Star' to be the source of radiation"
   ]
  },
  {
   "cell_type": "code",
   "execution_count": 15,
   "id": "145737b4",
   "metadata": {},
   "outputs": [],
   "source": [
    "a_res = a1 * ((j/(j-k))**(2/3)) * ((1-beta)**(1/3))\n",
    "\n",
    "a = 1.01 * a_Planet * (2**(2/3)) * ((1-beta)**(1/3)) # 3*a_Planet\n",
    "e = 0\n",
    "inc = 0 # [degree]\n",
    "\n",
    "Ndust = 1\n",
    "\n",
    "\n",
    "for i in range(2, Ndust+2):\n",
    "#     a = amin + awidth*random.random() # Semimajor axis\n",
    "    pomega = 2*np.pi*np.random.rand()   # Longitude of pericenter\n",
    "    f = 2*np.pi*np.random.rand()        # True anomaly\n",
    "    Omega = 2*np.pi*np.random.rand()    # Longitude of node\n",
    "#     inc = incmax*np.random.rand()     # Inclination\n",
    "\n",
    "    sim.add(a=a, e=e, inc=inc*Degree_To_Rad, Omega=Omega, pomega=pomega, f=f) # fake add to obtain Cartesian coords\n",
    "    xi, yi, zi = ps[i].x, ps[i].y, ps[i].z\n",
    "    vxi, vyi, vzi = np.sqrt(1-beta)*ps[i].vx, np.sqrt(1-beta)*ps[i].vy, np.sqrt(1-beta)*ps[i].vz # modify v in order for a circular orbit\n",
    "    sim.remove(i)\n",
    "    sim.add(x = xi, y = yi, z = zi, vx = vxi, vy = vyi, vz = vzi, hash=i) # real add\n",
    "    ps[i].params[\"beta\"] = beta"
   ]
  },
  {
   "cell_type": "markdown",
   "id": "d0f59cc0",
   "metadata": {},
   "source": [
    "Start Integration\n",
    "--"
   ]
  },
  {
   "cell_type": "code",
   "execution_count": 16,
   "id": "48b5c393",
   "metadata": {},
   "outputs": [],
   "source": [
    "# pick out dusts that have been ejected out\n",
    "\n",
    "# PE + KE wrt Star\n",
    "def get_E(sim, ps_i):\n",
    "    rstar = np.array(ps['Star'].xyz)\n",
    "    r = np.array(ps_i.xyz)\n",
    "    v = np.array(ps_i.vxyz)\n",
    "    \n",
    "    KE = 0.5 * v@v # test particle kinetic energy\n",
    "    mu = sim.G * ps['Star'].m\n",
    "    r_ds = r - rstar\n",
    "    PE = -mu/np.sqrt(r_ds@r_ds) # test particle potential energy\n",
    "    \n",
    "    E = KE + PE\n",
    "    \n",
    "    return E"
   ]
  },
  {
   "cell_type": "code",
   "execution_count": 17,
   "id": "b80b22b2",
   "metadata": {},
   "outputs": [
    {
     "name": "stdout",
     "output_type": "stream",
     "text": [
      "Hit the Planet: c_uint(2) at 119.98325 [yr]\n",
      "  ---------------------------------------\n",
      " |                                       |\n",
      " | No dusts left. Finish integration. :) |\n",
      " |                                       |\n",
      "  ---------------------------------------\n",
      "CPU times: user 5.65 s, sys: 47.7 ms, total: 5.7 s\n",
      "Wall time: 5.87 s\n"
     ]
    }
   ],
   "source": [
    "%%time\n",
    "\n",
    "yr = 365*24*3600 # s\n",
    "\n",
    "Noutput = 5000\n",
    "times = np.linspace(0*yr, 120*yr, Noutput)\n",
    "\n",
    "N_d = np.zeros(Noutput)\n",
    "\n",
    "xyzs = []\n",
    "vxyzs = []\n",
    "ps_ej = []\n",
    "\n",
    "EA_p, l_p, resonant_angle_p = np.zeros(Noutput), np.zeros(Noutput), np.zeros(Noutput)\n",
    "e_d, a_d, n_d, kappa, resonant_angle_d = np.zeros(Noutput), np.zeros(Noutput), np.zeros(Noutput), np.zeros(Noutput), np.zeros(Noutput)\n",
    "pomega_p, pomega_d, f_p, f_d, Omega_d, omega_d =  np.zeros(Noutput), np.zeros(Noutput), np.zeros(Noutput), np.zeros(Noutput), np.zeros(Noutput), np.zeros(Noutput)\n",
    "\n",
    "for i, time in enumerate(times):\n",
    "    sim.integrate(time)\n",
    "    if sim.N == 2:\n",
    "        print ('  ---------------------------------------\\n',\n",
    "               '|                                       |\\n',\n",
    "               '| No dusts left. Finish integration. :) |\\n',\n",
    "               '|                                       |\\n',\n",
    "               ' ---------------------------------------')\n",
    "        break    \n",
    "\n",
    "    \n",
    "    N_d[i] = sim.N-2\n",
    "    \n",
    "    xyzs.append([ps[j].xyz for j in range(sim.N)])\n",
    "    vxyzs.append([ps[j].vxyz for j in range(sim.N)])\n",
    "    \n",
    "    ps[\"Star\"].m = m_Star*(1-beta)\n",
    "    \n",
    "    mu1 = sim.G * ps['Star'].m\n",
    "    mu2 = sim.G * ps['Planet'].m\n",
    "    \n",
    "    l_p[i] = ps[\"Planet\"].l\n",
    "    EA_p[i] = np.arccos(ps[\"Planet\"].x/ps[\"Planet\"].a)\n",
    "    e_d[i], a_d[i], n_d[i] = ps[2].e, ps[2].a, ps[2].n\n",
    "    pomega_p[i], pomega_d[i], Omega_d[i], omega_d[i] = ps['Planet'].pomega, ps[2].pomega, ps[2].Omega, ps[2].omega\n",
    "    f_p[i], f_d[i] = ps['Planet'].f, ps[2].f\n",
    "    resonant_angle_p[i] = 2*ps[2].l -  ps['Planet'].l - ps['Planet'].pomega\n",
    "    resonant_angle_d[i] = 2*ps[2].l -  ps['Planet'].l - ps[2].pomega    \n",
    "    kappa[i] = ps[2].a/a_res * (2*np.sqrt(1-ps[2].e**2)-1)**2 -1\n",
    "\n",
    "    ps[\"Star\"].m = m_Star                                \n",
    "\n",
    "    \n",
    "    # ejection judgement\n",
    "    \n",
    "    E_ps_array = []\n",
    "    for j in range(2, sim.N):\n",
    "        E_ps_array.append(get_E(sim, ps[j]))\n",
    "    \n",
    "    index_ej = np.where(np.array(E_ps_array)>0)[0] + 2\n",
    "    \n",
    "    l = 0 # count of dusts already removed in this round\n",
    "    for k in range(len(index_ej)):\n",
    "        ps_ej.append(str(ps[int(index_ej[k])-l].hash))\n",
    "        print ('Ejection:', str(ps[int(index_ej[k])-l].hash), 'at %.5f'%(sim.t/yr), '[yr]')\n",
    "        sim.remove(int(index_ej[k])-l)\n",
    "        l += 1\n"
   ]
  },
  {
   "cell_type": "markdown",
   "id": "c76d0910",
   "metadata": {},
   "source": [
    "growth rate\n",
    "--"
   ]
  },
  {
   "cell_type": "code",
   "execution_count": 18,
   "id": "7cca94c3",
   "metadata": {},
   "outputs": [
    {
     "data": {
      "image/png": "[encoded data removed]",
      "text/plain": [
       "<Figure size 600x400 with 1 Axes>"
      ]
     },
     "metadata": {},
     "output_type": "display_data"
    }
   ],
   "source": [
    "phi2_num = resonant_angle_d%(2*np.pi)\n",
    "\n",
    "from scipy.signal import find_peaks\n",
    "peaks, _ = find_peaks(phi2_num) # distance=10\n",
    "troughs, _ = find_peaks(-phi2_num)\n",
    "peak_phi2 = phi2_num[peaks]\n",
    "trough_phi2 = phi2_num[troughs]\n",
    "\n",
    "# calculate the libration amplitude over time\n",
    "libration_amplitude, libration_center = [], []\n",
    "amplitude_time = []\n",
    "\n",
    "for i in range(min(len(peaks), len(troughs))):\n",
    "    libration_amplitude.append((peak_phi2[i] - trough_phi2[i]) / 2)\n",
    "    libration_center.append((peak_phi2[i] + trough_phi2[i]) / 2)\n",
    "    amplitude_time.append(times[peaks[i]])\n",
    "\n",
    "\n",
    "fig = plt.figure(figsize=(6, 4))\n",
    "ax = plt.subplot(111)\n",
    "plt.title(\"resonant angle\")\n",
    "ax.set_xlabel(\"time (yrs)\")\n",
    "ax.set_ylabel(r\"$\\phi_2$\")\n",
    "plt.plot(times/yr, phi2_num, color = 'cornflowerblue', label=r'$\\phi_2$')\n",
    "plt.plot(times[peaks]/yr, phi2_num[peaks], c='mediumseagreen', label='peaks')\n",
    "plt.plot(times[troughs]/yr, phi2_num[troughs], c='gold', label='troughs')\n",
    "plt.plot(np.array(amplitude_time)/yr, libration_amplitude, c='slateblue', label=r'$\\Delta\\phi_2$')\n",
    "plt.plot(np.array(amplitude_time)/yr, libration_center, c='salmon', ls='--', label='libration center')\n",
    "ax.axhline(y=phi2_eq, c='#90e4c1', ls='--')\n",
    "plt.legend()\n",
    "plt.show()"
   ]
  },
  {
   "cell_type": "code",
   "execution_count": 19,
   "id": "7aa70f61",
   "metadata": {},
   "outputs": [
    {
     "data": {
      "image/png": "[encoded data removed]",
      "text/plain": [
       "<Figure size 600x400 with 1 Axes>"
      ]
     },
     "metadata": {},
     "output_type": "display_data"
    }
   ],
   "source": [
    "t_array = times[peaks]\n",
    "y_numerical = np.exp(gamma*t_array)\n",
    "y_analytical = np.exp(3.80847469070978e-10*t_array) # see growth rate - analytical.ipynb\n",
    "\n",
    "fig = plt.figure(figsize=(6,4))\n",
    "ax = plt.subplot(111)\n",
    "# ax.set_xlim([-2.5,300])\n",
    "# ax.set_ylim([0,6.28])\n",
    "plt.title(\"libration amplitude\")\n",
    "plt.xlabel(\"time (yrs)\")\n",
    "plt.ylabel(r'$\\Delta\\phi_2$')\n",
    "plt.yscale(\"log\")\n",
    "plt.plot(np.array(amplitude_time)/yr, libration_amplitude, c='slateblue', alpha=0.8, label=r'$\\Delta\\phi_2$ - rebound')\n",
    "plt.plot(times[peaks]/yr, 0.12*y_analytical, c='#fc86aa', lw=3, ls='-', label=r'$e^{\\gamma t} - \\gamma = 3.808e-10 : \\gamma = \\frac{1}{2}\\dot{\\Gamma}_{\\Gamma} + \\frac{1}{2}\\dot{\\kappa}_{\\Gamma}\\left(\\frac{K_{0,\\Gamma\\kappa}}{K_{0,\\Gamma\\Gamma}}\\right)$')\n",
    "plt.plot(times[peaks]/yr, 0.12*y_numerical, c='#f7d560', lw=2, ls='--', label=r'$e^{\\gamma t} - \\gamma = 3.803e-10$: numerical linearization')\n",
    "\n",
    "plt.legend()\n",
    "plt.show()"
   ]
  },
  {
   "cell_type": "code",
   "execution_count": null,
   "id": "c7b81dd6",
   "metadata": {},
   "outputs": [],
   "source": []
  }
 ],
 "metadata": {
  "kernelspec": {
   "display_name": "Python 3 (ipykernel)",
   "language": "python",
   "name": "python3"
  },
  "language_info": {
   "codemirror_mode": {
    "name": "ipython",
    "version": 3
   },
   "file_extension": ".py",
   "mimetype": "text/x-python",
   "name": "python",
   "nbconvert_exporter": "python",
   "pygments_lexer": "ipython3",
   "version": "3.10.9"
  }
 },
 "nbformat": 4,
 "nbformat_minor": 5
}
